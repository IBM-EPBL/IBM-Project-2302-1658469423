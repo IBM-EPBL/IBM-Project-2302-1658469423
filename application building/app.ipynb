{
 "cells": [
  {
   "cell_type": "code",
   "execution_count": 1,
   "id": "7c0393cc",
   "metadata": {},
   "outputs": [],
   "source": [
    "import numpy as np"
   ]
  },
  {
   "cell_type": "code",
   "execution_count": 2,
   "id": "70d472f4",
   "metadata": {},
   "outputs": [],
   "source": [
    "import pandas as pd\n",
    "import flask\n",
    "\n",
    "from flask import Flask, request, redirect, render_template\n",
    "import pickle\n",
    "\n",
    "loaded_reg = pickle. load(open('randomreg_chronic.pkl', 'rb'))"
   ]
  },
  {
   "cell_type": "code",
   "execution_count": null,
   "id": "9dae9bb1",
   "metadata": {},
   "outputs": [
    {
     "name": "stdout",
     "output_type": "stream",
     "text": [
      " * Serving Flask app \"__main__\" (lazy loading)\n",
      " * Environment: production\n",
      "\u001b[31m   WARNING: This is a development server. Do not use it in a production deployment.\u001b[0m\n",
      "\u001b[2m   Use a production WSGI server instead.\u001b[0m\n",
      " * Debug mode: off\n"
     ]
    },
    {
     "name": "stderr",
     "output_type": "stream",
     "text": [
      " * Running on http://127.0.0.1:5000/ (Press CTRL+C to quit)\n",
      "127.0.0.1 - - [19/Nov/2022 21:15:47] \"GET / HTTP/1.1\" 200 -\n",
      "127.0.0.1 - - [19/Nov/2022 21:56:48] \"GET / HTTP/1.1\" 200 -\n",
      "C:\\ProgramData\\Anaconda3\\lib\\site-packages\\sklearn\\base.py:450: UserWarning: X does not have valid feature names, but LogisticRegression was fitted with feature names\n",
      "  warnings.warn(\n",
      "127.0.0.1 - - [19/Nov/2022 22:03:02] \"POST /val HTTP/1.1\" 200 -\n"
     ]
    },
    {
     "name": "stdout",
     "output_type": "stream",
     "text": [
      "[57.0, 67.0, 28.0, 59.0, 114.0, 0, 0, 0, 0, 129.0, 84.0, 82.0, 75.0, 74.0, 9.0, 0.0, 0.0, 0.0, 0, 0, 0, 0, 0, 0]\n"
     ]
    }
   ],
   "source": [
    "\n",
    "app = Flask(__name__,static_url_path=\"\")\n",
    "@app.route('/',methods=['GET'])\n",
    "def index():\n",
    "    return render_template('index.html')\n",
    "@app.route('/val',methods=['POST'])\n",
    "\n",
    "\n",
    "def val():\n",
    "    test=[]\n",
    "    if request.method == 'POST':\n",
    "        test.append(float(request.form[\"age\"]))\n",
    "        test.append(float(request.form[\"bp\"]))\n",
    "        test.append(float(request.form[\"sg\"]))\n",
    "        test.append(float(request.form[\"al\"]))\n",
    "        test.append(float(request.form[\"su\"]))\n",
    "        rb=request.form[\"rbc\"]\n",
    "        if rb==0:\n",
    "            test.append(1)\n",
    "        else:\n",
    "            test.append(0)\n",
    "        pc=request.form[\"pc\"]\n",
    "        if pc==0:\n",
    "            test.append(1)\n",
    "        else:\n",
    "            test.append(0)\n",
    "        pcc=request.form[\"pcc\"]\n",
    "        if pcc==1:\n",
    "            test.append(1)\n",
    "        else:\n",
    "            test.append(0)\n",
    "        ba=request.form[\"ba\"]\n",
    "        if ba==1:\n",
    "            test.append(1)\n",
    "        else:\n",
    "            test.append(0)\n",
    "        test.append(float(request.form[\"bgr\"]))\n",
    "        test.append(float(request.form[\"bu\"]))\n",
    "        test.append(float(request.form[\"sc\"]))\n",
    "        test.append(float(request.form[\"sod\"]))\n",
    "        test.append(float(request.form[\"pot\"]))\n",
    "        test.append(float(request.form[\"hemo\"]))\n",
    "        test.append(float(request.form[\"pcv\"]))\n",
    "        test.append(float(request.form[\"wc\"]))\n",
    "        test.append(float(request.form[\"rc\"]))\n",
    "        ht=request.form[\"htn\"]\n",
    "        if ht==1:\n",
    "            test.append(1)\n",
    "        else:\n",
    "            test.append(0)\n",
    "        d=request.form[\"dm\"]\n",
    "        if d==1:\n",
    "            test.append(1)\n",
    "        else:\n",
    "            test.append(0)\n",
    "        ca=request.form[\"cad\"]\n",
    "        if ca==1:\n",
    "            test.append(1)\n",
    "        else:\n",
    "            test.append(0)\n",
    "        ap=request.form[\"appet\"]\n",
    "        if ap==1:\n",
    "            test.append(1)\n",
    "        else:\n",
    "            test.append(0)\n",
    "        \n",
    "        p=request.form[\"pe\"]\n",
    "        if p==1:\n",
    "            test.append(1)\n",
    "        else:\n",
    "            test.append(0)\n",
    "        an=request.form[\"ane\"]\n",
    "        if an==1:\n",
    "            test.append(1)\n",
    "        else:\n",
    "            test.append(0)\n",
    "    print(test)\n",
    "    test_df=pd.DataFrame(test)\n",
    "    test_df=np.array(test_df).reshape(1, -1)\n",
    "    \n",
    "    ans2=loaded_reg.predict(test_df)\n",
    "    if int(ans2)==1:\n",
    "        answer1=\"You have CHRONIC DISEASE!!!\"\n",
    "        return render_template('rename.html',answer1=answer1)\n",
    "    else:\n",
    "        answer1=\"You don't have CHRONIC DISEASE\"\n",
    "\n",
    "        return render_template('rename2.html',answer1=answer1)\n",
    "    \n",
    "if __name__ == \"__main__\":\n",
    "    app.debug=True\n",
    "    app.run(debug=False)"
   ]
  },
  {
   "cell_type": "code",
   "execution_count": null,
   "id": "637416af",
   "metadata": {},
   "outputs": [],
   "source": []
  }
 ],
 "metadata": {
  "kernelspec": {
   "display_name": "Python 3 (ipykernel)",
   "language": "python",
   "name": "python3"
  },
  "language_info": {
   "codemirror_mode": {
    "name": "ipython",
    "version": 3
   },
   "file_extension": ".py",
   "mimetype": "text/x-python",
   "name": "python",
   "nbconvert_exporter": "python",
   "pygments_lexer": "ipython3",
   "version": "3.9.12"
  },
  "vscode": {
   "interpreter": {
    "hash": "1210ad2d3a6b3cedec78738194c52f8fa51f2dbaa63eca72688e3e5f10a2a52c"
   }
  }
 },
 "nbformat": 4,
 "nbformat_minor": 5
}
