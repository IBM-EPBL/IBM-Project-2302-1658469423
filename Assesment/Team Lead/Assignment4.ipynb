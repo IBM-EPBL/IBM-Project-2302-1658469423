{
  "cells": [
    {
      "cell_type": "markdown",
      "id": "497c917c",
      "metadata": {
        "id": "497c917c"
      },
      "source": [
        "# Import Libraries"
      ]
    },
    {
      "cell_type": "code",
      "execution_count": 1,
      "id": "d5fc8687",
      "metadata": {
        "id": "d5fc8687"
      },
      "outputs": [],
      "source": [
        "import pandas as pd\n",
        "import matplotlib.pyplot as plt\n",
        "import numpy as np\n",
        "import seaborn as sns\n",
        "from sklearn.model_selection import train_test_split\n",
        "from sklearn.preprocessing import StandardScaler\n",
        "from sklearn.linear_model import LogisticRegression\n",
        "from sklearn.tree import DecisionTreeClassifier \n",
        "from sklearn.cluster import KMeans\n",
        "from sklearn.metrics import confusion_matrix,classification_report, accuracy_score"
      ]
    },
    {
      "cell_type": "markdown",
      "id": "87c0f861",
      "metadata": {
        "id": "87c0f861"
      },
      "source": [
        "# Import Dataset"
      ]
    },
    {
      "cell_type": "code",
      "execution_count": 2,
      "id": "a0f3cfee",
      "metadata": {
        "colab": {
          "base_uri": "https://localhost:8080/",
          "height": 424
        },
        "id": "a0f3cfee",
        "outputId": "59f8f07f-2a55-4821-c928-292910118c83"
      },
      "outputs": [
        {
          "output_type": "execute_result",
          "data": {
            "text/plain": [
              "     CustomerID  Gender  Age  Annual Income (k$)  Spending Score (1-100)\n",
              "0             1    Male   19                  15                      39\n",
              "1             2    Male   21                  15                      81\n",
              "2             3  Female   20                  16                       6\n",
              "3             4  Female   23                  16                      77\n",
              "4             5  Female   31                  17                      40\n",
              "..          ...     ...  ...                 ...                     ...\n",
              "195         196  Female   35                 120                      79\n",
              "196         197  Female   45                 126                      28\n",
              "197         198    Male   32                 126                      74\n",
              "198         199    Male   32                 137                      18\n",
              "199         200    Male   30                 137                      83\n",
              "\n",
              "[200 rows x 5 columns]"
            ],
            "text/html": [
              "\n",
              "  <div id=\"df-46706865-ad05-4606-a4ba-79b60527b45a\">\n",
              "    <div class=\"colab-df-container\">\n",
              "      <div>\n",
              "<style scoped>\n",
              "    .dataframe tbody tr th:only-of-type {\n",
              "        vertical-align: middle;\n",
              "    }\n",
              "\n",
              "    .dataframe tbody tr th {\n",
              "        vertical-align: top;\n",
              "    }\n",
              "\n",
              "    .dataframe thead th {\n",
              "        text-align: right;\n",
              "    }\n",
              "</style>\n",
              "<table border=\"1\" class=\"dataframe\">\n",
              "  <thead>\n",
              "    <tr style=\"text-align: right;\">\n",
              "      <th></th>\n",
              "      <th>CustomerID</th>\n",
              "      <th>Gender</th>\n",
              "      <th>Age</th>\n",
              "      <th>Annual Income (k$)</th>\n",
              "      <th>Spending Score (1-100)</th>\n",
              "    </tr>\n",
              "  </thead>\n",
              "  <tbody>\n",
              "    <tr>\n",
              "      <th>0</th>\n",
              "      <td>1</td>\n",
              "      <td>Male</td>\n",
              "      <td>19</td>\n",
              "      <td>15</td>\n",
              "      <td>39</td>\n",
              "    </tr>\n",
              "    <tr>\n",
              "      <th>1</th>\n",
              "      <td>2</td>\n",
              "      <td>Male</td>\n",
              "      <td>21</td>\n",
              "      <td>15</td>\n",
              "      <td>81</td>\n",
              "    </tr>\n",
              "    <tr>\n",
              "      <th>2</th>\n",
              "      <td>3</td>\n",
              "      <td>Female</td>\n",
              "      <td>20</td>\n",
              "      <td>16</td>\n",
              "      <td>6</td>\n",
              "    </tr>\n",
              "    <tr>\n",
              "      <th>3</th>\n",
              "      <td>4</td>\n",
              "      <td>Female</td>\n",
              "      <td>23</td>\n",
              "      <td>16</td>\n",
              "      <td>77</td>\n",
              "    </tr>\n",
              "    <tr>\n",
              "      <th>4</th>\n",
              "      <td>5</td>\n",
              "      <td>Female</td>\n",
              "      <td>31</td>\n",
              "      <td>17</td>\n",
              "      <td>40</td>\n",
              "    </tr>\n",
              "    <tr>\n",
              "      <th>...</th>\n",
              "      <td>...</td>\n",
              "      <td>...</td>\n",
              "      <td>...</td>\n",
              "      <td>...</td>\n",
              "      <td>...</td>\n",
              "    </tr>\n",
              "    <tr>\n",
              "      <th>195</th>\n",
              "      <td>196</td>\n",
              "      <td>Female</td>\n",
              "      <td>35</td>\n",
              "      <td>120</td>\n",
              "      <td>79</td>\n",
              "    </tr>\n",
              "    <tr>\n",
              "      <th>196</th>\n",
              "      <td>197</td>\n",
              "      <td>Female</td>\n",
              "      <td>45</td>\n",
              "      <td>126</td>\n",
              "      <td>28</td>\n",
              "    </tr>\n",
              "    <tr>\n",
              "      <th>197</th>\n",
              "      <td>198</td>\n",
              "      <td>Male</td>\n",
              "      <td>32</td>\n",
              "      <td>126</td>\n",
              "      <td>74</td>\n",
              "    </tr>\n",
              "    <tr>\n",
              "      <th>198</th>\n",
              "      <td>199</td>\n",
              "      <td>Male</td>\n",
              "      <td>32</td>\n",
              "      <td>137</td>\n",
              "      <td>18</td>\n",
              "    </tr>\n",
              "    <tr>\n",
              "      <th>199</th>\n",
              "      <td>200</td>\n",
              "      <td>Male</td>\n",
              "      <td>30</td>\n",
              "      <td>137</td>\n",
              "      <td>83</td>\n",
              "    </tr>\n",
              "  </tbody>\n",
              "</table>\n",
              "<p>200 rows × 5 columns</p>\n",
              "</div>\n",
              "      <button class=\"colab-df-convert\" onclick=\"convertToInteractive('df-46706865-ad05-4606-a4ba-79b60527b45a')\"\n",
              "              title=\"Convert this dataframe to an interactive table.\"\n",
              "              style=\"display:none;\">\n",
              "        \n",
              "  <svg xmlns=\"http://www.w3.org/2000/svg\" height=\"24px\"viewBox=\"0 0 24 24\"\n",
              "       width=\"24px\">\n",
              "    <path d=\"M0 0h24v24H0V0z\" fill=\"none\"/>\n",
              "    <path d=\"M18.56 5.44l.94 2.06.94-2.06 2.06-.94-2.06-.94-.94-2.06-.94 2.06-2.06.94zm-11 1L8.5 8.5l.94-2.06 2.06-.94-2.06-.94L8.5 2.5l-.94 2.06-2.06.94zm10 10l.94 2.06.94-2.06 2.06-.94-2.06-.94-.94-2.06-.94 2.06-2.06.94z\"/><path d=\"M17.41 7.96l-1.37-1.37c-.4-.4-.92-.59-1.43-.59-.52 0-1.04.2-1.43.59L10.3 9.45l-7.72 7.72c-.78.78-.78 2.05 0 2.83L4 21.41c.39.39.9.59 1.41.59.51 0 1.02-.2 1.41-.59l7.78-7.78 2.81-2.81c.8-.78.8-2.07 0-2.86zM5.41 20L4 18.59l7.72-7.72 1.47 1.35L5.41 20z\"/>\n",
              "  </svg>\n",
              "      </button>\n",
              "      \n",
              "  <style>\n",
              "    .colab-df-container {\n",
              "      display:flex;\n",
              "      flex-wrap:wrap;\n",
              "      gap: 12px;\n",
              "    }\n",
              "\n",
              "    .colab-df-convert {\n",
              "      background-color: #E8F0FE;\n",
              "      border: none;\n",
              "      border-radius: 50%;\n",
              "      cursor: pointer;\n",
              "      display: none;\n",
              "      fill: #1967D2;\n",
              "      height: 32px;\n",
              "      padding: 0 0 0 0;\n",
              "      width: 32px;\n",
              "    }\n",
              "\n",
              "    .colab-df-convert:hover {\n",
              "      background-color: #E2EBFA;\n",
              "      box-shadow: 0px 1px 2px rgba(60, 64, 67, 0.3), 0px 1px 3px 1px rgba(60, 64, 67, 0.15);\n",
              "      fill: #174EA6;\n",
              "    }\n",
              "\n",
              "    [theme=dark] .colab-df-convert {\n",
              "      background-color: #3B4455;\n",
              "      fill: #D2E3FC;\n",
              "    }\n",
              "\n",
              "    [theme=dark] .colab-df-convert:hover {\n",
              "      background-color: #434B5C;\n",
              "      box-shadow: 0px 1px 3px 1px rgba(0, 0, 0, 0.15);\n",
              "      filter: drop-shadow(0px 1px 2px rgba(0, 0, 0, 0.3));\n",
              "      fill: #FFFFFF;\n",
              "    }\n",
              "  </style>\n",
              "\n",
              "      <script>\n",
              "        const buttonEl =\n",
              "          document.querySelector('#df-46706865-ad05-4606-a4ba-79b60527b45a button.colab-df-convert');\n",
              "        buttonEl.style.display =\n",
              "          google.colab.kernel.accessAllowed ? 'block' : 'none';\n",
              "\n",
              "        async function convertToInteractive(key) {\n",
              "          const element = document.querySelector('#df-46706865-ad05-4606-a4ba-79b60527b45a');\n",
              "          const dataTable =\n",
              "            await google.colab.kernel.invokeFunction('convertToInteractive',\n",
              "                                                     [key], {});\n",
              "          if (!dataTable) return;\n",
              "\n",
              "          const docLinkHtml = 'Like what you see? Visit the ' +\n",
              "            '<a target=\"_blank\" href=https://colab.research.google.com/notebooks/data_table.ipynb>data table notebook</a>'\n",
              "            + ' to learn more about interactive tables.';\n",
              "          element.innerHTML = '';\n",
              "          dataTable['output_type'] = 'display_data';\n",
              "          await google.colab.output.renderOutput(dataTable, element);\n",
              "          const docLink = document.createElement('div');\n",
              "          docLink.innerHTML = docLinkHtml;\n",
              "          element.appendChild(docLink);\n",
              "        }\n",
              "      </script>\n",
              "    </div>\n",
              "  </div>\n",
              "  "
            ]
          },
          "metadata": {},
          "execution_count": 2
        }
      ],
      "source": [
        "data = pd.read_csv('/content/Mall_Customers.csv')\n",
        "data"
      ]
    },
    {
      "cell_type": "code",
      "execution_count": 3,
      "id": "89d1b245",
      "metadata": {
        "colab": {
          "base_uri": "https://localhost:8080/"
        },
        "id": "89d1b245",
        "outputId": "2922b1b8-1b1f-4a5a-9465-9be7fba3302b"
      },
      "outputs": [
        {
          "output_type": "stream",
          "name": "stdout",
          "text": [
            "<class 'pandas.core.frame.DataFrame'>\n",
            "RangeIndex: 200 entries, 0 to 199\n",
            "Data columns (total 5 columns):\n",
            " #   Column                  Non-Null Count  Dtype \n",
            "---  ------                  --------------  ----- \n",
            " 0   CustomerID              200 non-null    int64 \n",
            " 1   Gender                  200 non-null    object\n",
            " 2   Age                     200 non-null    int64 \n",
            " 3   Annual Income (k$)      200 non-null    int64 \n",
            " 4   Spending Score (1-100)  200 non-null    int64 \n",
            "dtypes: int64(4), object(1)\n",
            "memory usage: 7.9+ KB\n"
          ]
        }
      ],
      "source": [
        "data.info()"
      ]
    },
    {
      "cell_type": "markdown",
      "id": "a4797efc",
      "metadata": {
        "id": "a4797efc"
      },
      "source": [
        "# Univariate Analysis"
      ]
    },
    {
      "cell_type": "code",
      "execution_count": 4,
      "id": "d10574b8",
      "metadata": {
        "colab": {
          "base_uri": "https://localhost:8080/",
          "height": 279
        },
        "id": "d10574b8",
        "outputId": "d7b5d62e-bf0f-4a0a-fd37-e74529bb9092"
      },
      "outputs": [
        {
          "output_type": "display_data",
          "data": {
            "text/plain": [
              "<Figure size 432x288 with 1 Axes>"
            ],
            "image/png": "[encoded data removed]"
          },
          "metadata": {
            "needs_background": "light"
          }
        }
      ],
      "source": [
        "plt.hist(data['Gender']);\n",
        "plt.xlabel('Gender');"
      ]
    },
    {
      "cell_type": "code",
      "execution_count": 5,
      "id": "17805bea",
      "metadata": {
        "colab": {
          "base_uri": "https://localhost:8080/",
          "height": 279
        },
        "id": "17805bea",
        "outputId": "a87c0e83-1574-4ab6-8058-26ce1c9df3ad"
      },
      "outputs": [
        {
          "output_type": "display_data",
          "data": {
            "text/plain": [
              "<Figure size 432x288 with 1 Axes>"
            ],
            "image/png": "[encoded data removed]"
          },
          "metadata": {
            "needs_background": "light"
          }
        }
      ],
      "source": [
        "plt.hist(data['Age']);\n",
        "plt.xlabel('Age');"
      ]
    },
    {
      "cell_type": "code",
      "execution_count": 6,
      "id": "553168c3",
      "metadata": {
        "colab": {
          "base_uri": "https://localhost:8080/",
          "height": 279
        },
        "id": "553168c3",
        "outputId": "9ab4f223-6a2f-43cc-8ca1-0bec4978c0fa"
      },
      "outputs": [
        {
          "output_type": "display_data",
          "data": {
            "text/plain": [
              "<Figure size 432x288 with 1 Axes>"
            ],
            "image/png": "[encoded data removed]"
          },
          "metadata": {
            "needs_background": "light"
          }
        }
      ],
      "source": [
        "plt.hist(data['Annual Income (k$)']);\n",
        "plt.xlabel('Annual Income (k$)');"
      ]
    },
    {
      "cell_type": "code",
      "execution_count": 7,
      "id": "e50a18ec",
      "metadata": {
        "colab": {
          "base_uri": "https://localhost:8080/",
          "height": 279
        },
        "id": "e50a18ec",
        "outputId": "ab439c09-b33c-414e-edb2-bedf2ad420bf"
      },
      "outputs": [
        {
          "output_type": "display_data",
          "data": {
            "text/plain": [
              "<Figure size 432x288 with 1 Axes>"
            ],
            "image/png": "[encoded data removed]"
          },
          "metadata": {
            "needs_background": "light"
          }
        }
      ],
      "source": [
        "sns.boxplot(x=data['Annual Income (k$)'])\n",
        "plt.xlabel('Annual Income (k$)');"
      ]
    },
    {
      "cell_type": "code",
      "execution_count": 8,
      "id": "6f5d64c0",
      "metadata": {
        "colab": {
          "base_uri": "https://localhost:8080/",
          "height": 279
        },
        "id": "6f5d64c0",
        "outputId": "cd236377-eed8-404c-cdc2-9deeb2ca7ada"
      },
      "outputs": [
        {
          "output_type": "display_data",
          "data": {
            "text/plain": [
              "<Figure size 432x288 with 1 Axes>"
            ],
            "image/png": "[encoded data removed]"
          },
          "metadata": {
            "needs_background": "light"
          }
        }
      ],
      "source": [
        "plt.hist(data['Spending Score (1-100)']);\n",
        "plt.xlabel('Spending Score (1-100)');"
      ]
    },
    {
      "cell_type": "markdown",
      "id": "69fcf812",
      "metadata": {
        "id": "69fcf812"
      },
      "source": [
        "# Bivariate Analysis"
      ]
    },
    {
      "cell_type": "code",
      "execution_count": 9,
      "id": "4c357d05",
      "metadata": {
        "colab": {
          "base_uri": "https://localhost:8080/",
          "height": 388
        },
        "id": "4c357d05",
        "outputId": "8669edc7-c752-4b8e-d399-81ec82ac4b65"
      },
      "outputs": [
        {
          "output_type": "display_data",
          "data": {
            "text/plain": [
              "<Figure size 720x432 with 1 Axes>"
            ],
            "image/png": "[encoded data removed]"
          },
          "metadata": {
            "needs_background": "light"
          }
        }
      ],
      "source": [
        "plt.figure(figsize=(10, 6))\n",
        "sns.lineplot(x=data[\"Age\"], y=data[\"Annual Income (k$)\"]);\n",
        "plt.xlabel('Age');\n",
        "plt.ylabel('Annual Income (k$)');"
      ]
    },
    {
      "cell_type": "code",
      "execution_count": 10,
      "id": "2fc2bfc8",
      "metadata": {
        "colab": {
          "base_uri": "https://localhost:8080/",
          "height": 388
        },
        "id": "2fc2bfc8",
        "outputId": "08d963e2-e53b-40b4-aa3d-b0d34db57d87"
      },
      "outputs": [
        {
          "output_type": "display_data",
          "data": {
            "text/plain": [
              "<Figure size 720x432 with 1 Axes>"
            ],
            "image/png": "[encoded data removed]"
          },
          "metadata": {
            "needs_background": "light"
          }
        }
      ],
      "source": [
        "plt.figure(figsize=(10, 6))\n",
        "sns.lineplot(x=data[\"Age\"], y=data[\"Spending Score (1-100)\"]);\n",
        "plt.xlabel('Age');\n",
        "plt.ylabel('Spending Score (1-100)');"
      ]
    },
    {
      "cell_type": "markdown",
      "id": "bf85365c",
      "metadata": {
        "id": "bf85365c"
      },
      "source": [
        "# Multi-variate Analysis"
      ]
    },
    {
      "cell_type": "code",
      "execution_count": 11,
      "id": "f729c291",
      "metadata": {
        "colab": {
          "base_uri": "https://localhost:8080/",
          "height": 726
        },
        "id": "f729c291",
        "outputId": "3c2e80a4-62fa-4da1-a901-89c424e04fb3"
      },
      "outputs": [
        {
          "output_type": "display_data",
          "data": {
            "text/plain": [
              "<Figure size 792.125x720 with 20 Axes>"
            ],
            "image/png": "[encoded data removed]"
          },
          "metadata": {
            "needs_background": "light"
          }
        }
      ],
      "source": [
        "sns.pairplot(data, hue='Gender');"
      ]
    },
    {
      "cell_type": "code",
      "execution_count": 12,
      "id": "52ec0117",
      "metadata": {
        "colab": {
          "base_uri": "https://localhost:8080/",
          "height": 378
        },
        "id": "52ec0117",
        "outputId": "de5c25d1-f9ff-4832-fce8-d9544724d8d8"
      },
      "outputs": [
        {
          "output_type": "display_data",
          "data": {
            "text/plain": [
              "<Figure size 720x432 with 2 Axes>"
            ],
            "image/png": "[encoded data removed]"
          },
          "metadata": {
            "needs_background": "light"
          }
        }
      ],
      "source": [
        "plt.figure(figsize=(10, 6));\n",
        "sns.heatmap(data.corr(), annot=True);"
      ]
    },
    {
      "cell_type": "markdown",
      "id": "945cfba5",
      "metadata": {
        "id": "945cfba5"
      },
      "source": [
        "# Descriptive Statistics"
      ]
    },
    {
      "cell_type": "code",
      "execution_count": 13,
      "id": "07737fea",
      "metadata": {
        "colab": {
          "base_uri": "https://localhost:8080/",
          "height": 300
        },
        "id": "07737fea",
        "outputId": "a43352ec-4fcb-4ce9-8fc2-266c94142cd7"
      },
      "outputs": [
        {
          "output_type": "execute_result",
          "data": {
            "text/plain": [
              "       CustomerID         Age  Annual Income (k$)  Spending Score (1-100)\n",
              "count  200.000000  200.000000          200.000000              200.000000\n",
              "mean   100.500000   38.850000           60.560000               50.200000\n",
              "std     57.879185   13.969007           26.264721               25.823522\n",
              "min      1.000000   18.000000           15.000000                1.000000\n",
              "25%     50.750000   28.750000           41.500000               34.750000\n",
              "50%    100.500000   36.000000           61.500000               50.000000\n",
              "75%    150.250000   49.000000           78.000000               73.000000\n",
              "max    200.000000   70.000000          137.000000               99.000000"
            ],
            "text/html": [
              "\n",
              "  <div id=\"df-158ba152-8058-45af-91ac-e5c1a764e9be\">\n",
              "    <div class=\"colab-df-container\">\n",
              "      <div>\n",
              "<style scoped>\n",
              "    .dataframe tbody tr th:only-of-type {\n",
              "        vertical-align: middle;\n",
              "    }\n",
              "\n",
              "    .dataframe tbody tr th {\n",
              "        vertical-align: top;\n",
              "    }\n",
              "\n",
              "    .dataframe thead th {\n",
              "        text-align: right;\n",
              "    }\n",
              "</style>\n",
              "<table border=\"1\" class=\"dataframe\">\n",
              "  <thead>\n",
              "    <tr style=\"text-align: right;\">\n",
              "      <th></th>\n",
              "      <th>CustomerID</th>\n",
              "      <th>Age</th>\n",
              "      <th>Annual Income (k$)</th>\n",
              "      <th>Spending Score (1-100)</th>\n",
              "    </tr>\n",
              "  </thead>\n",
              "  <tbody>\n",
              "    <tr>\n",
              "      <th>count</th>\n",
              "      <td>200.000000</td>\n",
              "      <td>200.000000</td>\n",
              "      <td>200.000000</td>\n",
              "      <td>200.000000</td>\n",
              "    </tr>\n",
              "    <tr>\n",
              "      <th>mean</th>\n",
              "      <td>100.500000</td>\n",
              "      <td>38.850000</td>\n",
              "      <td>60.560000</td>\n",
              "      <td>50.200000</td>\n",
              "    </tr>\n",
              "    <tr>\n",
              "      <th>std</th>\n",
              "      <td>57.879185</td>\n",
              "      <td>13.969007</td>\n",
              "      <td>26.264721</td>\n",
              "      <td>25.823522</td>\n",
              "    </tr>\n",
              "    <tr>\n",
              "      <th>min</th>\n",
              "      <td>1.000000</td>\n",
              "      <td>18.000000</td>\n",
              "      <td>15.000000</td>\n",
              "      <td>1.000000</td>\n",
              "    </tr>\n",
              "    <tr>\n",
              "      <th>25%</th>\n",
              "      <td>50.750000</td>\n",
              "      <td>28.750000</td>\n",
              "      <td>41.500000</td>\n",
              "      <td>34.750000</td>\n",
              "    </tr>\n",
              "    <tr>\n",
              "      <th>50%</th>\n",
              "      <td>100.500000</td>\n",
              "      <td>36.000000</td>\n",
              "      <td>61.500000</td>\n",
              "      <td>50.000000</td>\n",
              "    </tr>\n",
              "    <tr>\n",
              "      <th>75%</th>\n",
              "      <td>150.250000</td>\n",
              "      <td>49.000000</td>\n",
              "      <td>78.000000</td>\n",
              "      <td>73.000000</td>\n",
              "    </tr>\n",
              "    <tr>\n",
              "      <th>max</th>\n",
              "      <td>200.000000</td>\n",
              "      <td>70.000000</td>\n",
              "      <td>137.000000</td>\n",
              "      <td>99.000000</td>\n",
              "    </tr>\n",
              "  </tbody>\n",
              "</table>\n",
              "</div>\n",
              "      <button class=\"colab-df-convert\" onclick=\"convertToInteractive('df-158ba152-8058-45af-91ac-e5c1a764e9be')\"\n",
              "              title=\"Convert this dataframe to an interactive table.\"\n",
              "              style=\"display:none;\">\n",
              "        \n",
              "  <svg xmlns=\"http://www.w3.org/2000/svg\" height=\"24px\"viewBox=\"0 0 24 24\"\n",
              "       width=\"24px\">\n",
              "    <path d=\"M0 0h24v24H0V0z\" fill=\"none\"/>\n",
              "    <path d=\"M18.56 5.44l.94 2.06.94-2.06 2.06-.94-2.06-.94-.94-2.06-.94 2.06-2.06.94zm-11 1L8.5 8.5l.94-2.06 2.06-.94-2.06-.94L8.5 2.5l-.94 2.06-2.06.94zm10 10l.94 2.06.94-2.06 2.06-.94-2.06-.94-.94-2.06-.94 2.06-2.06.94z\"/><path d=\"M17.41 7.96l-1.37-1.37c-.4-.4-.92-.59-1.43-.59-.52 0-1.04.2-1.43.59L10.3 9.45l-7.72 7.72c-.78.78-.78 2.05 0 2.83L4 21.41c.39.39.9.59 1.41.59.51 0 1.02-.2 1.41-.59l7.78-7.78 2.81-2.81c.8-.78.8-2.07 0-2.86zM5.41 20L4 18.59l7.72-7.72 1.47 1.35L5.41 20z\"/>\n",
              "  </svg>\n",
              "      </button>\n",
              "      \n",
              "  <style>\n",
              "    .colab-df-container {\n",
              "      display:flex;\n",
              "      flex-wrap:wrap;\n",
              "      gap: 12px;\n",
              "    }\n",
              "\n",
              "    .colab-df-convert {\n",
              "      background-color: #E8F0FE;\n",
              "      border: none;\n",
              "      border-radius: 50%;\n",
              "      cursor: pointer;\n",
              "      display: none;\n",
              "      fill: #1967D2;\n",
              "      height: 32px;\n",
              "      padding: 0 0 0 0;\n",
              "      width: 32px;\n",
              "    }\n",
              "\n",
              "    .colab-df-convert:hover {\n",
              "      background-color: #E2EBFA;\n",
              "      box-shadow: 0px 1px 2px rgba(60, 64, 67, 0.3), 0px 1px 3px 1px rgba(60, 64, 67, 0.15);\n",
              "      fill: #174EA6;\n",
              "    }\n",
              "\n",
              "    [theme=dark] .colab-df-convert {\n",
              "      background-color: #3B4455;\n",
              "      fill: #D2E3FC;\n",
              "    }\n",
              "\n",
              "    [theme=dark] .colab-df-convert:hover {\n",
              "      background-color: #434B5C;\n",
              "      box-shadow: 0px 1px 3px 1px rgba(0, 0, 0, 0.15);\n",
              "      filter: drop-shadow(0px 1px 2px rgba(0, 0, 0, 0.3));\n",
              "      fill: #FFFFFF;\n",
              "    }\n",
              "  </style>\n",
              "\n",
              "      <script>\n",
              "        const buttonEl =\n",
              "          document.querySelector('#df-158ba152-8058-45af-91ac-e5c1a764e9be button.colab-df-convert');\n",
              "        buttonEl.style.display =\n",
              "          google.colab.kernel.accessAllowed ? 'block' : 'none';\n",
              "\n",
              "        async function convertToInteractive(key) {\n",
              "          const element = document.querySelector('#df-158ba152-8058-45af-91ac-e5c1a764e9be');\n",
              "          const dataTable =\n",
              "            await google.colab.kernel.invokeFunction('convertToInteractive',\n",
              "                                                     [key], {});\n",
              "          if (!dataTable) return;\n",
              "\n",
              "          const docLinkHtml = 'Like what you see? Visit the ' +\n",
              "            '<a target=\"_blank\" href=https://colab.research.google.com/notebooks/data_table.ipynb>data table notebook</a>'\n",
              "            + ' to learn more about interactive tables.';\n",
              "          element.innerHTML = '';\n",
              "          dataTable['output_type'] = 'display_data';\n",
              "          await google.colab.output.renderOutput(dataTable, element);\n",
              "          const docLink = document.createElement('div');\n",
              "          docLink.innerHTML = docLinkHtml;\n",
              "          element.appendChild(docLink);\n",
              "        }\n",
              "      </script>\n",
              "    </div>\n",
              "  </div>\n",
              "  "
            ]
          },
          "metadata": {},
          "execution_count": 13
        }
      ],
      "source": [
        "data.describe()"
      ]
    },
    {
      "cell_type": "code",
      "execution_count": 14,
      "id": "68645362",
      "metadata": {
        "colab": {
          "base_uri": "https://localhost:8080/"
        },
        "id": "68645362",
        "outputId": "fae74807-4d58-458d-cd41-b5965a3ffbc2"
      },
      "outputs": [
        {
          "output_type": "stream",
          "name": "stderr",
          "text": [
            "/usr/local/lib/python3.7/dist-packages/ipykernel_launcher.py:1: FutureWarning: Dropping of nuisance columns in DataFrame reductions (with 'numeric_only=None') is deprecated; in a future version this will raise TypeError.  Select only valid columns before calling the reduction.\n",
            "  \"\"\"Entry point for launching an IPython kernel.\n"
          ]
        },
        {
          "output_type": "execute_result",
          "data": {
            "text/plain": [
              "CustomerID                0.000000\n",
              "Age                       0.485569\n",
              "Annual Income (k$)        0.321843\n",
              "Spending Score (1-100)   -0.047220\n",
              "dtype: float64"
            ]
          },
          "metadata": {},
          "execution_count": 14
        }
      ],
      "source": [
        "data.skew()"
      ]
    },
    {
      "cell_type": "code",
      "execution_count": 15,
      "id": "1e61691c",
      "metadata": {
        "colab": {
          "base_uri": "https://localhost:8080/"
        },
        "id": "1e61691c",
        "outputId": "b4466ced-f05f-4c29-96a8-bc481606bc05"
      },
      "outputs": [
        {
          "output_type": "stream",
          "name": "stderr",
          "text": [
            "/usr/local/lib/python3.7/dist-packages/ipykernel_launcher.py:1: FutureWarning: Dropping of nuisance columns in DataFrame reductions (with 'numeric_only=None') is deprecated; in a future version this will raise TypeError.  Select only valid columns before calling the reduction.\n",
            "  \"\"\"Entry point for launching an IPython kernel.\n"
          ]
        },
        {
          "output_type": "execute_result",
          "data": {
            "text/plain": [
              "CustomerID               -1.200000\n",
              "Age                      -0.671573\n",
              "Annual Income (k$)       -0.098487\n",
              "Spending Score (1-100)   -0.826629\n",
              "dtype: float64"
            ]
          },
          "metadata": {},
          "execution_count": 15
        }
      ],
      "source": [
        "data.kurt()"
      ]
    },
    {
      "cell_type": "code",
      "execution_count": 16,
      "id": "f72af75d",
      "metadata": {
        "colab": {
          "base_uri": "https://localhost:8080/"
        },
        "id": "f72af75d",
        "outputId": "67c071d7-f615-48b8-96fc-36a12add365a"
      },
      "outputs": [
        {
          "output_type": "stream",
          "name": "stderr",
          "text": [
            "/usr/local/lib/python3.7/dist-packages/ipykernel_launcher.py:1: FutureWarning: Dropping of nuisance columns in DataFrame reductions (with 'numeric_only=None') is deprecated; in a future version this will raise TypeError.  Select only valid columns before calling the reduction.\n",
            "  \"\"\"Entry point for launching an IPython kernel.\n"
          ]
        },
        {
          "output_type": "execute_result",
          "data": {
            "text/plain": [
              "CustomerID                3350.000000\n",
              "Age                        195.133166\n",
              "Annual Income (k$)         689.835578\n",
              "Spending Score (1-100)     666.854271\n",
              "dtype: float64"
            ]
          },
          "metadata": {},
          "execution_count": 16
        }
      ],
      "source": [
        "data.var()"
      ]
    },
    {
      "cell_type": "markdown",
      "id": "69f79c99",
      "metadata": {
        "id": "69f79c99"
      },
      "source": [
        "# Handling Missing Values"
      ]
    },
    {
      "cell_type": "code",
      "execution_count": 17,
      "id": "9ccefa82",
      "metadata": {
        "colab": {
          "base_uri": "https://localhost:8080/"
        },
        "id": "9ccefa82",
        "outputId": "6e2b4f45-a46c-448d-e391-8f1e7929e3fb"
      },
      "outputs": [
        {
          "output_type": "execute_result",
          "data": {
            "text/plain": [
              "CustomerID                0\n",
              "Gender                    0\n",
              "Age                       0\n",
              "Annual Income (k$)        0\n",
              "Spending Score (1-100)    0\n",
              "dtype: int64"
            ]
          },
          "metadata": {},
          "execution_count": 17
        }
      ],
      "source": [
        "data.isna().sum()"
      ]
    },
    {
      "cell_type": "markdown",
      "id": "b3763f84",
      "metadata": {
        "id": "b3763f84"
      },
      "source": [
        "# Outlier Handling"
      ]
    },
    {
      "cell_type": "code",
      "execution_count": 18,
      "id": "42f89568",
      "metadata": {
        "id": "42f89568"
      },
      "outputs": [],
      "source": [
        "numeric_cols = ['Age', 'Annual Income (k$)', 'Spending Score (1-100)']\n",
        "\n",
        "def boxplots(cols):\n",
        "    fig, axes = plt.subplots(3, 1, figsize=(15, 20))\n",
        "\n",
        "    t=0\n",
        "    for i in range(3):\n",
        "        sns.boxplot(ax=axes[i], data=data, x=cols[t])\n",
        "        t+=1\n",
        "\n",
        "    plt.show()"
      ]
    },
    {
      "cell_type": "code",
      "execution_count": 19,
      "id": "83218bce",
      "metadata": {
        "id": "83218bce"
      },
      "outputs": [],
      "source": [
        "def Flooring_outlier(col):\n",
        "    Q1 = data[col].quantile(0.25)\n",
        "    Q3 = data[col].quantile(0.75)\n",
        "    IQR = Q3 - Q1\n",
        "    whisker_width = 1.5\n",
        "    lower_whisker = Q1 -(whisker_width*IQR)\n",
        "    upper_whisker = Q3 + (whisker_width*IQR)\n",
        "    data[col]=np.where(data[col]>upper_whisker,upper_whisker,np.where(data[col]<lower_whisker,lower_whisker,data[col]))"
      ]
    },
    {
      "cell_type": "code",
      "execution_count": 20,
      "id": "4a5930c8",
      "metadata": {
        "scrolled": true,
        "colab": {
          "base_uri": "https://localhost:8080/",
          "height": 0
        },
        "id": "4a5930c8",
        "outputId": "15172b50-4fe9-4a34-be70-d01926f95299"
      },
      "outputs": [
        {
          "output_type": "stream",
          "name": "stdout",
          "text": [
            "Before Outliers Handling\n",
            "====================================================================================================\n"
          ]
        },
        {
          "output_type": "display_data",
          "data": {
            "text/plain": [
              "<Figure size 1080x1440 with 3 Axes>"
            ],
            "image/png": "[encoded data removed]"
          },
          "metadata": {
            "needs_background": "light"
          }
        },
        {
          "output_type": "stream",
          "name": "stdout",
          "text": [
            "\n",
            "\n",
            "\n",
            "After Outliers Handling\n",
            "====================================================================================================\n"
          ]
        },
        {
          "output_type": "display_data",
          "data": {
            "text/plain": [
              "<Figure size 1080x1440 with 3 Axes>"
            ],
            "image/png": "[encoded data removed]"
          },
          "metadata": {
            "needs_background": "light"
          }
        }
      ],
      "source": [
        "print('Before Outliers Handling')\n",
        "print('='*100)\n",
        "boxplots(numeric_cols)\n",
        "for col in numeric_cols:\n",
        "    Flooring_outlier(col)\n",
        "print('\\n\\n\\nAfter Outliers Handling')\n",
        "print('='*100)\n",
        "boxplots(numeric_cols)"
      ]
    },
    {
      "cell_type": "markdown",
      "id": "e3ed487b",
      "metadata": {
        "id": "e3ed487b"
      },
      "source": [
        "# Encode Categorical Columns"
      ]
    },
    {
      "cell_type": "code",
      "execution_count": 21,
      "id": "2da61c6b",
      "metadata": {
        "colab": {
          "base_uri": "https://localhost:8080/",
          "height": 0
        },
        "id": "2da61c6b",
        "outputId": "18e8c0a3-1b58-4368-c5aa-f64b77b4b268"
      },
      "outputs": [
        {
          "output_type": "execute_result",
          "data": {
            "text/plain": [
              "     CustomerID   Age  Annual Income (k$)  Spending Score (1-100)  \\\n",
              "0             1  19.0               15.00                    39.0   \n",
              "1             2  21.0               15.00                    81.0   \n",
              "2             3  20.0               16.00                     6.0   \n",
              "3             4  23.0               16.00                    77.0   \n",
              "4             5  31.0               17.00                    40.0   \n",
              "..          ...   ...                 ...                     ...   \n",
              "195         196  35.0              120.00                    79.0   \n",
              "196         197  45.0              126.00                    28.0   \n",
              "197         198  32.0              126.00                    74.0   \n",
              "198         199  32.0              132.75                    18.0   \n",
              "199         200  30.0              132.75                    83.0   \n",
              "\n",
              "     Gender_Female  Gender_Male  \n",
              "0                0            1  \n",
              "1                0            1  \n",
              "2                1            0  \n",
              "3                1            0  \n",
              "4                1            0  \n",
              "..             ...          ...  \n",
              "195              1            0  \n",
              "196              1            0  \n",
              "197              0            1  \n",
              "198              0            1  \n",
              "199              0            1  \n",
              "\n",
              "[200 rows x 6 columns]"
            ],
            "text/html": [
              "\n",
              "  <div id=\"df-fc48e3e9-ebe6-4a16-a2bb-14836257f3c7\">\n",
              "    <div class=\"colab-df-container\">\n",
              "      <div>\n",
              "<style scoped>\n",
              "    .dataframe tbody tr th:only-of-type {\n",
              "        vertical-align: middle;\n",
              "    }\n",
              "\n",
              "    .dataframe tbody tr th {\n",
              "        vertical-align: top;\n",
              "    }\n",
              "\n",
              "    .dataframe thead th {\n",
              "        text-align: right;\n",
              "    }\n",
              "</style>\n",
              "<table border=\"1\" class=\"dataframe\">\n",
              "  <thead>\n",
              "    <tr style=\"text-align: right;\">\n",
              "      <th></th>\n",
              "      <th>CustomerID</th>\n",
              "      <th>Age</th>\n",
              "      <th>Annual Income (k$)</th>\n",
              "      <th>Spending Score (1-100)</th>\n",
              "      <th>Gender_Female</th>\n",
              "      <th>Gender_Male</th>\n",
              "    </tr>\n",
              "  </thead>\n",
              "  <tbody>\n",
              "    <tr>\n",
              "      <th>0</th>\n",
              "      <td>1</td>\n",
              "      <td>19.0</td>\n",
              "      <td>15.00</td>\n",
              "      <td>39.0</td>\n",
              "      <td>0</td>\n",
              "      <td>1</td>\n",
              "    </tr>\n",
              "    <tr>\n",
              "      <th>1</th>\n",
              "      <td>2</td>\n",
              "      <td>21.0</td>\n",
              "      <td>15.00</td>\n",
              "      <td>81.0</td>\n",
              "      <td>0</td>\n",
              "      <td>1</td>\n",
              "    </tr>\n",
              "    <tr>\n",
              "      <th>2</th>\n",
              "      <td>3</td>\n",
              "      <td>20.0</td>\n",
              "      <td>16.00</td>\n",
              "      <td>6.0</td>\n",
              "      <td>1</td>\n",
              "      <td>0</td>\n",
              "    </tr>\n",
              "    <tr>\n",
              "      <th>3</th>\n",
              "      <td>4</td>\n",
              "      <td>23.0</td>\n",
              "      <td>16.00</td>\n",
              "      <td>77.0</td>\n",
              "      <td>1</td>\n",
              "      <td>0</td>\n",
              "    </tr>\n",
              "    <tr>\n",
              "      <th>4</th>\n",
              "      <td>5</td>\n",
              "      <td>31.0</td>\n",
              "      <td>17.00</td>\n",
              "      <td>40.0</td>\n",
              "      <td>1</td>\n",
              "      <td>0</td>\n",
              "    </tr>\n",
              "    <tr>\n",
              "      <th>...</th>\n",
              "      <td>...</td>\n",
              "      <td>...</td>\n",
              "      <td>...</td>\n",
              "      <td>...</td>\n",
              "      <td>...</td>\n",
              "      <td>...</td>\n",
              "    </tr>\n",
              "    <tr>\n",
              "      <th>195</th>\n",
              "      <td>196</td>\n",
              "      <td>35.0</td>\n",
              "      <td>120.00</td>\n",
              "      <td>79.0</td>\n",
              "      <td>1</td>\n",
              "      <td>0</td>\n",
              "    </tr>\n",
              "    <tr>\n",
              "      <th>196</th>\n",
              "      <td>197</td>\n",
              "      <td>45.0</td>\n",
              "      <td>126.00</td>\n",
              "      <td>28.0</td>\n",
              "      <td>1</td>\n",
              "      <td>0</td>\n",
              "    </tr>\n",
              "    <tr>\n",
              "      <th>197</th>\n",
              "      <td>198</td>\n",
              "      <td>32.0</td>\n",
              "      <td>126.00</td>\n",
              "      <td>74.0</td>\n",
              "      <td>0</td>\n",
              "      <td>1</td>\n",
              "    </tr>\n",
              "    <tr>\n",
              "      <th>198</th>\n",
              "      <td>199</td>\n",
              "      <td>32.0</td>\n",
              "      <td>132.75</td>\n",
              "      <td>18.0</td>\n",
              "      <td>0</td>\n",
              "      <td>1</td>\n",
              "    </tr>\n",
              "    <tr>\n",
              "      <th>199</th>\n",
              "      <td>200</td>\n",
              "      <td>30.0</td>\n",
              "      <td>132.75</td>\n",
              "      <td>83.0</td>\n",
              "      <td>0</td>\n",
              "      <td>1</td>\n",
              "    </tr>\n",
              "  </tbody>\n",
              "</table>\n",
              "<p>200 rows × 6 columns</p>\n",
              "</div>\n",
              "      <button class=\"colab-df-convert\" onclick=\"convertToInteractive('df-fc48e3e9-ebe6-4a16-a2bb-14836257f3c7')\"\n",
              "              title=\"Convert this dataframe to an interactive table.\"\n",
              "              style=\"display:none;\">\n",
              "        \n",
              "  <svg xmlns=\"http://www.w3.org/2000/svg\" height=\"24px\"viewBox=\"0 0 24 24\"\n",
              "       width=\"24px\">\n",
              "    <path d=\"M0 0h24v24H0V0z\" fill=\"none\"/>\n",
              "    <path d=\"M18.56 5.44l.94 2.06.94-2.06 2.06-.94-2.06-.94-.94-2.06-.94 2.06-2.06.94zm-11 1L8.5 8.5l.94-2.06 2.06-.94-2.06-.94L8.5 2.5l-.94 2.06-2.06.94zm10 10l.94 2.06.94-2.06 2.06-.94-2.06-.94-.94-2.06-.94 2.06-2.06.94z\"/><path d=\"M17.41 7.96l-1.37-1.37c-.4-.4-.92-.59-1.43-.59-.52 0-1.04.2-1.43.59L10.3 9.45l-7.72 7.72c-.78.78-.78 2.05 0 2.83L4 21.41c.39.39.9.59 1.41.59.51 0 1.02-.2 1.41-.59l7.78-7.78 2.81-2.81c.8-.78.8-2.07 0-2.86zM5.41 20L4 18.59l7.72-7.72 1.47 1.35L5.41 20z\"/>\n",
              "  </svg>\n",
              "      </button>\n",
              "      \n",
              "  <style>\n",
              "    .colab-df-container {\n",
              "      display:flex;\n",
              "      flex-wrap:wrap;\n",
              "      gap: 12px;\n",
              "    }\n",
              "\n",
              "    .colab-df-convert {\n",
              "      background-color: #E8F0FE;\n",
              "      border: none;\n",
              "      border-radius: 50%;\n",
              "      cursor: pointer;\n",
              "      display: none;\n",
              "      fill: #1967D2;\n",
              "      height: 32px;\n",
              "      padding: 0 0 0 0;\n",
              "      width: 32px;\n",
              "    }\n",
              "\n",
              "    .colab-df-convert:hover {\n",
              "      background-color: #E2EBFA;\n",
              "      box-shadow: 0px 1px 2px rgba(60, 64, 67, 0.3), 0px 1px 3px 1px rgba(60, 64, 67, 0.15);\n",
              "      fill: #174EA6;\n",
              "    }\n",
              "\n",
              "    [theme=dark] .colab-df-convert {\n",
              "      background-color: #3B4455;\n",
              "      fill: #D2E3FC;\n",
              "    }\n",
              "\n",
              "    [theme=dark] .colab-df-convert:hover {\n",
              "      background-color: #434B5C;\n",
              "      box-shadow: 0px 1px 3px 1px rgba(0, 0, 0, 0.15);\n",
              "      filter: drop-shadow(0px 1px 2px rgba(0, 0, 0, 0.3));\n",
              "      fill: #FFFFFF;\n",
              "    }\n",
              "  </style>\n",
              "\n",
              "      <script>\n",
              "        const buttonEl =\n",
              "          document.querySelector('#df-fc48e3e9-ebe6-4a16-a2bb-14836257f3c7 button.colab-df-convert');\n",
              "        buttonEl.style.display =\n",
              "          google.colab.kernel.accessAllowed ? 'block' : 'none';\n",
              "\n",
              "        async function convertToInteractive(key) {\n",
              "          const element = document.querySelector('#df-fc48e3e9-ebe6-4a16-a2bb-14836257f3c7');\n",
              "          const dataTable =\n",
              "            await google.colab.kernel.invokeFunction('convertToInteractive',\n",
              "                                                     [key], {});\n",
              "          if (!dataTable) return;\n",
              "\n",
              "          const docLinkHtml = 'Like what you see? Visit the ' +\n",
              "            '<a target=\"_blank\" href=https://colab.research.google.com/notebooks/data_table.ipynb>data table notebook</a>'\n",
              "            + ' to learn more about interactive tables.';\n",
              "          element.innerHTML = '';\n",
              "          dataTable['output_type'] = 'display_data';\n",
              "          await google.colab.output.renderOutput(dataTable, element);\n",
              "          const docLink = document.createElement('div');\n",
              "          docLink.innerHTML = docLinkHtml;\n",
              "          element.appendChild(docLink);\n",
              "        }\n",
              "      </script>\n",
              "    </div>\n",
              "  </div>\n",
              "  "
            ]
          },
          "metadata": {},
          "execution_count": 21
        }
      ],
      "source": [
        "data = pd.get_dummies(data, columns = ['Gender'])\n",
        "data"
      ]
    },
    {
      "cell_type": "markdown",
      "id": "06317730",
      "metadata": {
        "id": "06317730"
      },
      "source": [
        "# Standart Scaling"
      ]
    },
    {
      "cell_type": "code",
      "execution_count": 22,
      "id": "1ac583b7",
      "metadata": {
        "colab": {
          "base_uri": "https://localhost:8080/",
          "height": 0
        },
        "id": "1ac583b7",
        "outputId": "ec3c02c9-233d-4c8d-b4ab-c707e41772ef"
      },
      "outputs": [
        {
          "output_type": "execute_result",
          "data": {
            "text/plain": [
              "      Age  Annual Income (k$)  Spending Score (1-100)  Gender_Female  \\\n",
              "0    19.0               15.00                    39.0              0   \n",
              "1    21.0               15.00                    81.0              0   \n",
              "2    20.0               16.00                     6.0              1   \n",
              "3    23.0               16.00                    77.0              1   \n",
              "4    31.0               17.00                    40.0              1   \n",
              "..    ...                 ...                     ...            ...   \n",
              "195  35.0              120.00                    79.0              1   \n",
              "196  45.0              126.00                    28.0              1   \n",
              "197  32.0              126.00                    74.0              0   \n",
              "198  32.0              132.75                    18.0              0   \n",
              "199  30.0              132.75                    83.0              0   \n",
              "\n",
              "     Gender_Male  \n",
              "0              1  \n",
              "1              1  \n",
              "2              0  \n",
              "3              0  \n",
              "4              0  \n",
              "..           ...  \n",
              "195            0  \n",
              "196            0  \n",
              "197            1  \n",
              "198            1  \n",
              "199            1  \n",
              "\n",
              "[200 rows x 5 columns]"
            ],
            "text/html": [
              "\n",
              "  <div id=\"df-7dadc3c7-e1b5-473d-81f6-c882309e4bff\">\n",
              "    <div class=\"colab-df-container\">\n",
              "      <div>\n",
              "<style scoped>\n",
              "    .dataframe tbody tr th:only-of-type {\n",
              "        vertical-align: middle;\n",
              "    }\n",
              "\n",
              "    .dataframe tbody tr th {\n",
              "        vertical-align: top;\n",
              "    }\n",
              "\n",
              "    .dataframe thead th {\n",
              "        text-align: right;\n",
              "    }\n",
              "</style>\n",
              "<table border=\"1\" class=\"dataframe\">\n",
              "  <thead>\n",
              "    <tr style=\"text-align: right;\">\n",
              "      <th></th>\n",
              "      <th>Age</th>\n",
              "      <th>Annual Income (k$)</th>\n",
              "      <th>Spending Score (1-100)</th>\n",
              "      <th>Gender_Female</th>\n",
              "      <th>Gender_Male</th>\n",
              "    </tr>\n",
              "  </thead>\n",
              "  <tbody>\n",
              "    <tr>\n",
              "      <th>0</th>\n",
              "      <td>19.0</td>\n",
              "      <td>15.00</td>\n",
              "      <td>39.0</td>\n",
              "      <td>0</td>\n",
              "      <td>1</td>\n",
              "    </tr>\n",
              "    <tr>\n",
              "      <th>1</th>\n",
              "      <td>21.0</td>\n",
              "      <td>15.00</td>\n",
              "      <td>81.0</td>\n",
              "      <td>0</td>\n",
              "      <td>1</td>\n",
              "    </tr>\n",
              "    <tr>\n",
              "      <th>2</th>\n",
              "      <td>20.0</td>\n",
              "      <td>16.00</td>\n",
              "      <td>6.0</td>\n",
              "      <td>1</td>\n",
              "      <td>0</td>\n",
              "    </tr>\n",
              "    <tr>\n",
              "      <th>3</th>\n",
              "      <td>23.0</td>\n",
              "      <td>16.00</td>\n",
              "      <td>77.0</td>\n",
              "      <td>1</td>\n",
              "      <td>0</td>\n",
              "    </tr>\n",
              "    <tr>\n",
              "      <th>4</th>\n",
              "      <td>31.0</td>\n",
              "      <td>17.00</td>\n",
              "      <td>40.0</td>\n",
              "      <td>1</td>\n",
              "      <td>0</td>\n",
              "    </tr>\n",
              "    <tr>\n",
              "      <th>...</th>\n",
              "      <td>...</td>\n",
              "      <td>...</td>\n",
              "      <td>...</td>\n",
              "      <td>...</td>\n",
              "      <td>...</td>\n",
              "    </tr>\n",
              "    <tr>\n",
              "      <th>195</th>\n",
              "      <td>35.0</td>\n",
              "      <td>120.00</td>\n",
              "      <td>79.0</td>\n",
              "      <td>1</td>\n",
              "      <td>0</td>\n",
              "    </tr>\n",
              "    <tr>\n",
              "      <th>196</th>\n",
              "      <td>45.0</td>\n",
              "      <td>126.00</td>\n",
              "      <td>28.0</td>\n",
              "      <td>1</td>\n",
              "      <td>0</td>\n",
              "    </tr>\n",
              "    <tr>\n",
              "      <th>197</th>\n",
              "      <td>32.0</td>\n",
              "      <td>126.00</td>\n",
              "      <td>74.0</td>\n",
              "      <td>0</td>\n",
              "      <td>1</td>\n",
              "    </tr>\n",
              "    <tr>\n",
              "      <th>198</th>\n",
              "      <td>32.0</td>\n",
              "      <td>132.75</td>\n",
              "      <td>18.0</td>\n",
              "      <td>0</td>\n",
              "      <td>1</td>\n",
              "    </tr>\n",
              "    <tr>\n",
              "      <th>199</th>\n",
              "      <td>30.0</td>\n",
              "      <td>132.75</td>\n",
              "      <td>83.0</td>\n",
              "      <td>0</td>\n",
              "      <td>1</td>\n",
              "    </tr>\n",
              "  </tbody>\n",
              "</table>\n",
              "<p>200 rows × 5 columns</p>\n",
              "</div>\n",
              "      <button class=\"colab-df-convert\" onclick=\"convertToInteractive('df-7dadc3c7-e1b5-473d-81f6-c882309e4bff')\"\n",
              "              title=\"Convert this dataframe to an interactive table.\"\n",
              "              style=\"display:none;\">\n",
              "        \n",
              "  <svg xmlns=\"http://www.w3.org/2000/svg\" height=\"24px\"viewBox=\"0 0 24 24\"\n",
              "       width=\"24px\">\n",
              "    <path d=\"M0 0h24v24H0V0z\" fill=\"none\"/>\n",
              "    <path d=\"M18.56 5.44l.94 2.06.94-2.06 2.06-.94-2.06-.94-.94-2.06-.94 2.06-2.06.94zm-11 1L8.5 8.5l.94-2.06 2.06-.94-2.06-.94L8.5 2.5l-.94 2.06-2.06.94zm10 10l.94 2.06.94-2.06 2.06-.94-2.06-.94-.94-2.06-.94 2.06-2.06.94z\"/><path d=\"M17.41 7.96l-1.37-1.37c-.4-.4-.92-.59-1.43-.59-.52 0-1.04.2-1.43.59L10.3 9.45l-7.72 7.72c-.78.78-.78 2.05 0 2.83L4 21.41c.39.39.9.59 1.41.59.51 0 1.02-.2 1.41-.59l7.78-7.78 2.81-2.81c.8-.78.8-2.07 0-2.86zM5.41 20L4 18.59l7.72-7.72 1.47 1.35L5.41 20z\"/>\n",
              "  </svg>\n",
              "      </button>\n",
              "      \n",
              "  <style>\n",
              "    .colab-df-container {\n",
              "      display:flex;\n",
              "      flex-wrap:wrap;\n",
              "      gap: 12px;\n",
              "    }\n",
              "\n",
              "    .colab-df-convert {\n",
              "      background-color: #E8F0FE;\n",
              "      border: none;\n",
              "      border-radius: 50%;\n",
              "      cursor: pointer;\n",
              "      display: none;\n",
              "      fill: #1967D2;\n",
              "      height: 32px;\n",
              "      padding: 0 0 0 0;\n",
              "      width: 32px;\n",
              "    }\n",
              "\n",
              "    .colab-df-convert:hover {\n",
              "      background-color: #E2EBFA;\n",
              "      box-shadow: 0px 1px 2px rgba(60, 64, 67, 0.3), 0px 1px 3px 1px rgba(60, 64, 67, 0.15);\n",
              "      fill: #174EA6;\n",
              "    }\n",
              "\n",
              "    [theme=dark] .colab-df-convert {\n",
              "      background-color: #3B4455;\n",
              "      fill: #D2E3FC;\n",
              "    }\n",
              "\n",
              "    [theme=dark] .colab-df-convert:hover {\n",
              "      background-color: #434B5C;\n",
              "      box-shadow: 0px 1px 3px 1px rgba(0, 0, 0, 0.15);\n",
              "      filter: drop-shadow(0px 1px 2px rgba(0, 0, 0, 0.3));\n",
              "      fill: #FFFFFF;\n",
              "    }\n",
              "  </style>\n",
              "\n",
              "      <script>\n",
              "        const buttonEl =\n",
              "          document.querySelector('#df-7dadc3c7-e1b5-473d-81f6-c882309e4bff button.colab-df-convert');\n",
              "        buttonEl.style.display =\n",
              "          google.colab.kernel.accessAllowed ? 'block' : 'none';\n",
              "\n",
              "        async function convertToInteractive(key) {\n",
              "          const element = document.querySelector('#df-7dadc3c7-e1b5-473d-81f6-c882309e4bff');\n",
              "          const dataTable =\n",
              "            await google.colab.kernel.invokeFunction('convertToInteractive',\n",
              "                                                     [key], {});\n",
              "          if (!dataTable) return;\n",
              "\n",
              "          const docLinkHtml = 'Like what you see? Visit the ' +\n",
              "            '<a target=\"_blank\" href=https://colab.research.google.com/notebooks/data_table.ipynb>data table notebook</a>'\n",
              "            + ' to learn more about interactive tables.';\n",
              "          element.innerHTML = '';\n",
              "          dataTable['output_type'] = 'display_data';\n",
              "          await google.colab.output.renderOutput(dataTable, element);\n",
              "          const docLink = document.createElement('div');\n",
              "          docLink.innerHTML = docLinkHtml;\n",
              "          element.appendChild(docLink);\n",
              "        }\n",
              "      </script>\n",
              "    </div>\n",
              "  </div>\n",
              "  "
            ]
          },
          "metadata": {},
          "execution_count": 22
        }
      ],
      "source": [
        "data = data.drop(['CustomerID'], axis=1)\n",
        "data"
      ]
    },
    {
      "cell_type": "code",
      "execution_count": 23,
      "id": "170998a1",
      "metadata": {
        "colab": {
          "base_uri": "https://localhost:8080/"
        },
        "id": "170998a1",
        "outputId": "557dbc35-23ed-4a5c-fdd2-c3135f760914"
      },
      "outputs": [
        {
          "output_type": "execute_result",
          "data": {
            "text/plain": [
              "Index(['Age', 'Annual Income (k$)', 'Spending Score (1-100)', 'Gender_Female',\n",
              "       'Gender_Male'],\n",
              "      dtype='object')"
            ]
          },
          "metadata": {},
          "execution_count": 23
        }
      ],
      "source": [
        "cols = data.columns\n",
        "cols"
      ]
    },
    {
      "cell_type": "code",
      "execution_count": 24,
      "id": "ab63944f",
      "metadata": {
        "colab": {
          "base_uri": "https://localhost:8080/"
        },
        "id": "ab63944f",
        "outputId": "5b9f9875-ad20-4ed7-abed-9e726c6ba88e"
      },
      "outputs": [
        {
          "output_type": "execute_result",
          "data": {
            "text/plain": [
              "array([[-1.42456879, -1.74542941, -0.43480148],\n",
              "       [-1.28103541, -1.74542941,  1.19570407],\n",
              "       [-1.3528021 , -1.70708307, -1.71591298],\n",
              "       [-1.13750203, -1.70708307,  1.04041783],\n",
              "       [-0.56336851, -1.66873673, -0.39597992],\n",
              "       [-1.20926872, -1.66873673,  1.00159627],\n",
              "       [-0.27630176, -1.6303904 , -1.71591298],\n",
              "       [-1.13750203, -1.6303904 ,  1.70038436],\n",
              "       [ 1.80493225, -1.59204406, -1.83237767],\n",
              "       [-0.6351352 , -1.59204406,  0.84631002],\n",
              "       [ 2.02023231, -1.59204406, -1.4053405 ],\n",
              "       [-0.27630176, -1.59204406,  1.89449216],\n",
              "       [ 1.37433211, -1.55369772, -1.36651894],\n",
              "       [-1.06573534, -1.55369772,  1.04041783],\n",
              "       [-0.13276838, -1.55369772, -1.44416206],\n",
              "       [-1.20926872, -1.55369772,  1.11806095],\n",
              "       [-0.27630176, -1.51535138, -0.59008772],\n",
              "       [-1.3528021 , -1.51535138,  0.61338066],\n",
              "       [ 0.94373197, -1.43865871, -0.82301709],\n",
              "       [-0.27630176, -1.43865871,  1.8556706 ],\n",
              "       [-0.27630176, -1.40031237, -0.59008772],\n",
              "       [-0.99396865, -1.40031237,  0.88513158],\n",
              "       [ 0.51313183, -1.36196603, -1.75473454],\n",
              "       [-0.56336851, -1.36196603,  0.88513158],\n",
              "       [ 1.08726535, -1.24692702, -1.4053405 ],\n",
              "       [-0.70690189, -1.24692702,  1.23452563],\n",
              "       [ 0.44136514, -1.24692702, -0.7065524 ],\n",
              "       [-0.27630176, -1.24692702,  0.41927286],\n",
              "       [ 0.08253169, -1.20858069, -0.74537397],\n",
              "       [-1.13750203, -1.20858069,  1.42863343],\n",
              "       [ 1.51786549, -1.17023435, -1.7935561 ],\n",
              "       [-1.28103541, -1.17023435,  0.88513158],\n",
              "       [ 1.01549866, -1.05519534, -1.7935561 ],\n",
              "       [-1.49633548, -1.05519534,  1.62274124],\n",
              "       [ 0.7284319 , -1.05519534, -1.4053405 ],\n",
              "       [-1.28103541, -1.05519534,  1.19570407],\n",
              "       [ 0.22606507, -1.016849  , -1.28887582],\n",
              "       [-0.6351352 , -1.016849  ,  0.88513158],\n",
              "       [-0.20453507, -0.90180999, -0.93948177],\n",
              "       [-1.3528021 , -0.90180999,  0.96277471],\n",
              "       [ 1.87669894, -0.86346365, -0.59008772],\n",
              "       [-1.06573534, -0.86346365,  1.62274124],\n",
              "       [ 0.65666521, -0.82511731, -0.55126616],\n",
              "       [-0.56336851, -0.82511731,  0.41927286],\n",
              "       [ 0.7284319 , -0.82511731, -0.86183865],\n",
              "       [-1.06573534, -0.82511731,  0.5745591 ],\n",
              "       [ 0.80019859, -0.78677098,  0.18634349],\n",
              "       [-0.85043527, -0.78677098, -0.12422899],\n",
              "       [-0.70690189, -0.78677098, -0.3183368 ],\n",
              "       [-0.56336851, -0.78677098, -0.3183368 ],\n",
              "       [ 0.7284319 , -0.7100783 ,  0.06987881],\n",
              "       [-0.41983513, -0.7100783 ,  0.38045129],\n",
              "       [-0.56336851, -0.67173196,  0.14752193],\n",
              "       [ 1.4460988 , -0.67173196,  0.38045129],\n",
              "       [ 0.80019859, -0.67173196, -0.20187212],\n",
              "       [ 0.58489852, -0.67173196, -0.35715836],\n",
              "       [ 0.87196528, -0.63338563, -0.00776431],\n",
              "       [ 2.16376569, -0.63338563, -0.16305055],\n",
              "       [-0.85043527, -0.55669295,  0.03105725],\n",
              "       [ 1.01549866, -0.55669295, -0.16305055],\n",
              "       [ 2.23553238, -0.55669295,  0.22516505],\n",
              "       [-1.42456879, -0.55669295,  0.18634349],\n",
              "       [ 2.02023231, -0.51834661,  0.06987881],\n",
              "       [ 1.08726535, -0.51834661,  0.34162973],\n",
              "       [ 1.73316556, -0.48000028,  0.03105725],\n",
              "       [-1.49633548, -0.48000028,  0.34162973],\n",
              "       [ 0.29783176, -0.48000028, -0.00776431],\n",
              "       [ 2.091999  , -0.48000028, -0.08540743],\n",
              "       [-1.42456879, -0.48000028,  0.34162973],\n",
              "       [-0.49160182, -0.48000028, -0.12422899],\n",
              "       [ 2.23553238, -0.44165394,  0.18634349],\n",
              "       [ 0.58489852, -0.44165394, -0.3183368 ],\n",
              "       [ 1.51786549, -0.4033076 , -0.04658587],\n",
              "       [ 1.51786549, -0.4033076 ,  0.22516505],\n",
              "       [ 1.4460988 , -0.24992225, -0.12422899],\n",
              "       [-0.92220196, -0.24992225,  0.14752193],\n",
              "       [ 0.44136514, -0.24992225,  0.10870037],\n",
              "       [ 0.08253169, -0.24992225, -0.08540743],\n",
              "       [-1.13750203, -0.24992225,  0.06987881],\n",
              "       [ 0.7284319 , -0.24992225, -0.3183368 ],\n",
              "       [ 1.30256542, -0.24992225,  0.03105725],\n",
              "       [-0.06100169, -0.24992225,  0.18634349],\n",
              "       [ 2.02023231, -0.24992225, -0.35715836],\n",
              "       [ 0.51313183, -0.24992225, -0.24069368],\n",
              "       [-1.28103541, -0.24992225,  0.26398661],\n",
              "       [ 0.65666521, -0.24992225, -0.16305055],\n",
              "       [ 1.15903204, -0.13488324,  0.30280817],\n",
              "       [-1.20926872, -0.13488324,  0.18634349],\n",
              "       [-0.34806844, -0.0965369 ,  0.38045129],\n",
              "       [ 0.80019859, -0.0965369 , -0.16305055],\n",
              "       [ 2.091999  , -0.05819057,  0.18634349],\n",
              "       [-1.49633548, -0.05819057, -0.35715836],\n",
              "       [ 0.65666521, -0.01984423, -0.04658587],\n",
              "       [ 0.08253169, -0.01984423, -0.39597992],\n",
              "       [-0.49160182, -0.01984423, -0.3183368 ],\n",
              "       [-1.06573534, -0.01984423,  0.06987881],\n",
              "       [ 0.58489852, -0.01984423, -0.12422899],\n",
              "       [-0.85043527, -0.01984423, -0.00776431],\n",
              "       [ 0.65666521,  0.01850211, -0.3183368 ],\n",
              "       [-1.3528021 ,  0.01850211, -0.04658587],\n",
              "       [-1.13750203,  0.05684845, -0.35715836],\n",
              "       [ 0.7284319 ,  0.05684845, -0.08540743],\n",
              "       [ 2.02023231,  0.05684845,  0.34162973],\n",
              "       [-0.92220196,  0.05684845,  0.18634349],\n",
              "       [ 0.7284319 ,  0.05684845,  0.22516505],\n",
              "       [-1.28103541,  0.05684845, -0.3183368 ],\n",
              "       [ 1.94846562,  0.09519478, -0.00776431],\n",
              "       [ 1.08726535,  0.09519478, -0.16305055],\n",
              "       [ 2.091999  ,  0.09519478, -0.27951524],\n",
              "       [ 1.94846562,  0.09519478, -0.08540743],\n",
              "       [ 1.87669894,  0.09519478,  0.06987881],\n",
              "       [-1.42456879,  0.09519478,  0.14752193],\n",
              "       [-0.06100169,  0.13354112, -0.3183368 ],\n",
              "       [-1.42456879,  0.13354112, -0.16305055],\n",
              "       [-1.49633548,  0.17188746, -0.08540743],\n",
              "       [-1.42456879,  0.17188746, -0.00776431],\n",
              "       [ 1.73316556,  0.17188746, -0.27951524],\n",
              "       [ 0.7284319 ,  0.17188746,  0.34162973],\n",
              "       [ 0.87196528,  0.24858013, -0.27951524],\n",
              "       [ 0.80019859,  0.24858013,  0.26398661],\n",
              "       [-0.85043527,  0.24858013,  0.22516505],\n",
              "       [-0.06100169,  0.24858013, -0.39597992],\n",
              "       [ 0.08253169,  0.32527281,  0.30280817],\n",
              "       [ 0.010765  ,  0.32527281,  1.58391968],\n",
              "       [-1.13750203,  0.36361914, -0.82301709],\n",
              "       [-0.56336851,  0.36361914,  1.04041783],\n",
              "       [ 0.29783176,  0.40196548, -0.59008772],\n",
              "       [ 0.08253169,  0.40196548,  1.73920592],\n",
              "       [ 1.4460988 ,  0.40196548, -1.52180518],\n",
              "       [-0.06100169,  0.40196548,  0.96277471],\n",
              "       [ 0.58489852,  0.40196548, -1.5994483 ],\n",
              "       [ 0.010765  ,  0.40196548,  0.96277471],\n",
              "       [-0.99396865,  0.44031182, -0.62890928],\n",
              "       [-0.56336851,  0.44031182,  0.80748846],\n",
              "       [-1.3528021 ,  0.47865816, -1.75473454],\n",
              "       [-0.70690189,  0.47865816,  1.46745499],\n",
              "       [ 0.36959845,  0.47865816, -1.67709142],\n",
              "       [-0.49160182,  0.47865816,  0.88513158],\n",
              "       [-1.42456879,  0.51700449, -1.56062674],\n",
              "       [-0.27630176,  0.51700449,  0.84631002],\n",
              "       [ 1.30256542,  0.55535083, -1.75473454],\n",
              "       [-0.49160182,  0.55535083,  1.6615628 ],\n",
              "       [-0.77866858,  0.59369717, -0.39597992],\n",
              "       [-0.49160182,  0.59369717,  1.42863343],\n",
              "       [-0.99396865,  0.6320435 , -1.48298362],\n",
              "       [-0.77866858,  0.6320435 ,  1.81684904],\n",
              "       [ 0.65666521,  0.6320435 , -0.55126616],\n",
              "       [-0.49160182,  0.6320435 ,  0.92395314],\n",
              "       [-0.34806844,  0.67038984, -1.09476801],\n",
              "       [-0.34806844,  0.67038984,  1.54509812],\n",
              "       [ 0.29783176,  0.67038984, -1.28887582],\n",
              "       [ 0.010765  ,  0.67038984,  1.46745499],\n",
              "       [ 0.36959845,  0.67038984, -1.17241113],\n",
              "       [-0.06100169,  0.67038984,  1.00159627],\n",
              "       [ 0.58489852,  0.67038984, -1.32769738],\n",
              "       [-0.85043527,  0.67038984,  1.50627656],\n",
              "       [-0.13276838,  0.67038984, -1.91002079],\n",
              "       [-0.6351352 ,  0.67038984,  1.07923939],\n",
              "       [-0.34806844,  0.67038984, -1.91002079],\n",
              "       [-0.6351352 ,  0.67038984,  0.88513158],\n",
              "       [ 1.23079873,  0.70873618, -0.59008772],\n",
              "       [-0.70690189,  0.70873618,  1.27334719],\n",
              "       [-1.42456879,  0.78542885, -1.75473454],\n",
              "       [-0.56336851,  0.78542885,  1.6615628 ],\n",
              "       [ 0.80019859,  0.9388142 , -0.93948177],\n",
              "       [-0.20453507,  0.9388142 ,  0.96277471],\n",
              "       [ 0.22606507,  0.97716054, -1.17241113],\n",
              "       [-0.41983513,  0.97716054,  1.73920592],\n",
              "       [-0.20453507,  1.01550688, -0.90066021],\n",
              "       [-0.49160182,  1.01550688,  0.49691598],\n",
              "       [ 0.08253169,  1.01550688, -1.44416206],\n",
              "       [-0.77866858,  1.01550688,  0.96277471],\n",
              "       [-0.20453507,  1.01550688, -1.56062674],\n",
              "       [-0.20453507,  1.01550688,  1.62274124],\n",
              "       [ 0.94373197,  1.05385321, -1.44416206],\n",
              "       [-0.6351352 ,  1.05385321,  1.38981187],\n",
              "       [ 1.37433211,  1.05385321, -1.36651894],\n",
              "       [-0.85043527,  1.05385321,  0.72984534],\n",
              "       [ 1.4460988 ,  1.2455849 , -1.4053405 ],\n",
              "       [-0.27630176,  1.2455849 ,  1.54509812],\n",
              "       [-0.13276838,  1.39897025, -0.7065524 ],\n",
              "       [-0.49160182,  1.39897025,  1.38981187],\n",
              "       [ 0.51313183,  1.43731659, -1.36651894],\n",
              "       [-0.70690189,  1.43731659,  1.46745499],\n",
              "       [ 0.15429838,  1.47566292, -0.43480148],\n",
              "       [-0.6351352 ,  1.47566292,  1.81684904],\n",
              "       [ 1.08726535,  1.5523556 , -1.01712489],\n",
              "       [-0.77866858,  1.5523556 ,  0.69102378],\n",
              "       [ 0.15429838,  1.62904827, -1.28887582],\n",
              "       [-0.20453507,  1.62904827,  1.35099031],\n",
              "       [-0.34806844,  1.62904827, -1.05594645],\n",
              "       [-0.49160182,  1.62904827,  0.72984534],\n",
              "       [-0.41983513,  2.01251165, -1.63826986],\n",
              "       [-0.06100169,  2.01251165,  1.58391968],\n",
              "       [ 0.58489852,  2.28093601, -1.32769738],\n",
              "       [-0.27630176,  2.28093601,  1.11806095],\n",
              "       [ 0.44136514,  2.51101403, -0.86183865],\n",
              "       [-0.49160182,  2.51101403,  0.92395314],\n",
              "       [-0.49160182,  2.76985181, -1.25005425],\n",
              "       [-0.6351352 ,  2.76985181,  1.27334719]])"
            ]
          },
          "metadata": {},
          "execution_count": 24
        }
      ],
      "source": [
        "scaler = StandardScaler()\n",
        "sc = scaler.fit_transform(data[['Age', 'Annual Income (k$)', 'Spending Score (1-100)']])\n",
        "sc"
      ]
    },
    {
      "cell_type": "code",
      "execution_count": 25,
      "id": "4d7b55c3",
      "metadata": {
        "colab": {
          "base_uri": "https://localhost:8080/",
          "height": 0
        },
        "id": "4d7b55c3",
        "outputId": "09b05fea-ab7a-494e-a29a-9e929f5ee8e7"
      },
      "outputs": [
        {
          "output_type": "execute_result",
          "data": {
            "text/plain": [
              "          Age  Annual Income (k$)  Spending Score (1-100)  Gender_Female  \\\n",
              "0   -1.424569           -1.745429               -0.434801              0   \n",
              "1   -1.281035           -1.745429                1.195704              0   \n",
              "2   -1.352802           -1.707083               -1.715913              1   \n",
              "3   -1.137502           -1.707083                1.040418              1   \n",
              "4   -0.563369           -1.668737               -0.395980              1   \n",
              "..        ...                 ...                     ...            ...   \n",
              "195 -0.276302            2.280936                1.118061              1   \n",
              "196  0.441365            2.511014               -0.861839              1   \n",
              "197 -0.491602            2.511014                0.923953              0   \n",
              "198 -0.491602            2.769852               -1.250054              0   \n",
              "199 -0.635135            2.769852                1.273347              0   \n",
              "\n",
              "     Gender_Male  \n",
              "0              1  \n",
              "1              1  \n",
              "2              0  \n",
              "3              0  \n",
              "4              0  \n",
              "..           ...  \n",
              "195            0  \n",
              "196            0  \n",
              "197            1  \n",
              "198            1  \n",
              "199            1  \n",
              "\n",
              "[200 rows x 5 columns]"
            ],
            "text/html": [
              "\n",
              "  <div id=\"df-f1df1c15-8e61-4979-b9de-7e893b590a69\">\n",
              "    <div class=\"colab-df-container\">\n",
              "      <div>\n",
              "<style scoped>\n",
              "    .dataframe tbody tr th:only-of-type {\n",
              "        vertical-align: middle;\n",
              "    }\n",
              "\n",
              "    .dataframe tbody tr th {\n",
              "        vertical-align: top;\n",
              "    }\n",
              "\n",
              "    .dataframe thead th {\n",
              "        text-align: right;\n",
              "    }\n",
              "</style>\n",
              "<table border=\"1\" class=\"dataframe\">\n",
              "  <thead>\n",
              "    <tr style=\"text-align: right;\">\n",
              "      <th></th>\n",
              "      <th>Age</th>\n",
              "      <th>Annual Income (k$)</th>\n",
              "      <th>Spending Score (1-100)</th>\n",
              "      <th>Gender_Female</th>\n",
              "      <th>Gender_Male</th>\n",
              "    </tr>\n",
              "  </thead>\n",
              "  <tbody>\n",
              "    <tr>\n",
              "      <th>0</th>\n",
              "      <td>-1.424569</td>\n",
              "      <td>-1.745429</td>\n",
              "      <td>-0.434801</td>\n",
              "      <td>0</td>\n",
              "      <td>1</td>\n",
              "    </tr>\n",
              "    <tr>\n",
              "      <th>1</th>\n",
              "      <td>-1.281035</td>\n",
              "      <td>-1.745429</td>\n",
              "      <td>1.195704</td>\n",
              "      <td>0</td>\n",
              "      <td>1</td>\n",
              "    </tr>\n",
              "    <tr>\n",
              "      <th>2</th>\n",
              "      <td>-1.352802</td>\n",
              "      <td>-1.707083</td>\n",
              "      <td>-1.715913</td>\n",
              "      <td>1</td>\n",
              "      <td>0</td>\n",
              "    </tr>\n",
              "    <tr>\n",
              "      <th>3</th>\n",
              "      <td>-1.137502</td>\n",
              "      <td>-1.707083</td>\n",
              "      <td>1.040418</td>\n",
              "      <td>1</td>\n",
              "      <td>0</td>\n",
              "    </tr>\n",
              "    <tr>\n",
              "      <th>4</th>\n",
              "      <td>-0.563369</td>\n",
              "      <td>-1.668737</td>\n",
              "      <td>-0.395980</td>\n",
              "      <td>1</td>\n",
              "      <td>0</td>\n",
              "    </tr>\n",
              "    <tr>\n",
              "      <th>...</th>\n",
              "      <td>...</td>\n",
              "      <td>...</td>\n",
              "      <td>...</td>\n",
              "      <td>...</td>\n",
              "      <td>...</td>\n",
              "    </tr>\n",
              "    <tr>\n",
              "      <th>195</th>\n",
              "      <td>-0.276302</td>\n",
              "      <td>2.280936</td>\n",
              "      <td>1.118061</td>\n",
              "      <td>1</td>\n",
              "      <td>0</td>\n",
              "    </tr>\n",
              "    <tr>\n",
              "      <th>196</th>\n",
              "      <td>0.441365</td>\n",
              "      <td>2.511014</td>\n",
              "      <td>-0.861839</td>\n",
              "      <td>1</td>\n",
              "      <td>0</td>\n",
              "    </tr>\n",
              "    <tr>\n",
              "      <th>197</th>\n",
              "      <td>-0.491602</td>\n",
              "      <td>2.511014</td>\n",
              "      <td>0.923953</td>\n",
              "      <td>0</td>\n",
              "      <td>1</td>\n",
              "    </tr>\n",
              "    <tr>\n",
              "      <th>198</th>\n",
              "      <td>-0.491602</td>\n",
              "      <td>2.769852</td>\n",
              "      <td>-1.250054</td>\n",
              "      <td>0</td>\n",
              "      <td>1</td>\n",
              "    </tr>\n",
              "    <tr>\n",
              "      <th>199</th>\n",
              "      <td>-0.635135</td>\n",
              "      <td>2.769852</td>\n",
              "      <td>1.273347</td>\n",
              "      <td>0</td>\n",
              "      <td>1</td>\n",
              "    </tr>\n",
              "  </tbody>\n",
              "</table>\n",
              "<p>200 rows × 5 columns</p>\n",
              "</div>\n",
              "      <button class=\"colab-df-convert\" onclick=\"convertToInteractive('df-f1df1c15-8e61-4979-b9de-7e893b590a69')\"\n",
              "              title=\"Convert this dataframe to an interactive table.\"\n",
              "              style=\"display:none;\">\n",
              "        \n",
              "  <svg xmlns=\"http://www.w3.org/2000/svg\" height=\"24px\"viewBox=\"0 0 24 24\"\n",
              "       width=\"24px\">\n",
              "    <path d=\"M0 0h24v24H0V0z\" fill=\"none\"/>\n",
              "    <path d=\"M18.56 5.44l.94 2.06.94-2.06 2.06-.94-2.06-.94-.94-2.06-.94 2.06-2.06.94zm-11 1L8.5 8.5l.94-2.06 2.06-.94-2.06-.94L8.5 2.5l-.94 2.06-2.06.94zm10 10l.94 2.06.94-2.06 2.06-.94-2.06-.94-.94-2.06-.94 2.06-2.06.94z\"/><path d=\"M17.41 7.96l-1.37-1.37c-.4-.4-.92-.59-1.43-.59-.52 0-1.04.2-1.43.59L10.3 9.45l-7.72 7.72c-.78.78-.78 2.05 0 2.83L4 21.41c.39.39.9.59 1.41.59.51 0 1.02-.2 1.41-.59l7.78-7.78 2.81-2.81c.8-.78.8-2.07 0-2.86zM5.41 20L4 18.59l7.72-7.72 1.47 1.35L5.41 20z\"/>\n",
              "  </svg>\n",
              "      </button>\n",
              "      \n",
              "  <style>\n",
              "    .colab-df-container {\n",
              "      display:flex;\n",
              "      flex-wrap:wrap;\n",
              "      gap: 12px;\n",
              "    }\n",
              "\n",
              "    .colab-df-convert {\n",
              "      background-color: #E8F0FE;\n",
              "      border: none;\n",
              "      border-radius: 50%;\n",
              "      cursor: pointer;\n",
              "      display: none;\n",
              "      fill: #1967D2;\n",
              "      height: 32px;\n",
              "      padding: 0 0 0 0;\n",
              "      width: 32px;\n",
              "    }\n",
              "\n",
              "    .colab-df-convert:hover {\n",
              "      background-color: #E2EBFA;\n",
              "      box-shadow: 0px 1px 2px rgba(60, 64, 67, 0.3), 0px 1px 3px 1px rgba(60, 64, 67, 0.15);\n",
              "      fill: #174EA6;\n",
              "    }\n",
              "\n",
              "    [theme=dark] .colab-df-convert {\n",
              "      background-color: #3B4455;\n",
              "      fill: #D2E3FC;\n",
              "    }\n",
              "\n",
              "    [theme=dark] .colab-df-convert:hover {\n",
              "      background-color: #434B5C;\n",
              "      box-shadow: 0px 1px 3px 1px rgba(0, 0, 0, 0.15);\n",
              "      filter: drop-shadow(0px 1px 2px rgba(0, 0, 0, 0.3));\n",
              "      fill: #FFFFFF;\n",
              "    }\n",
              "  </style>\n",
              "\n",
              "      <script>\n",
              "        const buttonEl =\n",
              "          document.querySelector('#df-f1df1c15-8e61-4979-b9de-7e893b590a69 button.colab-df-convert');\n",
              "        buttonEl.style.display =\n",
              "          google.colab.kernel.accessAllowed ? 'block' : 'none';\n",
              "\n",
              "        async function convertToInteractive(key) {\n",
              "          const element = document.querySelector('#df-f1df1c15-8e61-4979-b9de-7e893b590a69');\n",
              "          const dataTable =\n",
              "            await google.colab.kernel.invokeFunction('convertToInteractive',\n",
              "                                                     [key], {});\n",
              "          if (!dataTable) return;\n",
              "\n",
              "          const docLinkHtml = 'Like what you see? Visit the ' +\n",
              "            '<a target=\"_blank\" href=https://colab.research.google.com/notebooks/data_table.ipynb>data table notebook</a>'\n",
              "            + ' to learn more about interactive tables.';\n",
              "          element.innerHTML = '';\n",
              "          dataTable['output_type'] = 'display_data';\n",
              "          await google.colab.output.renderOutput(dataTable, element);\n",
              "          const docLink = document.createElement('div');\n",
              "          docLink.innerHTML = docLinkHtml;\n",
              "          element.appendChild(docLink);\n",
              "        }\n",
              "      </script>\n",
              "    </div>\n",
              "  </div>\n",
              "  "
            ]
          },
          "metadata": {},
          "execution_count": 25
        }
      ],
      "source": [
        "data[['Age', 'Annual Income (k$)', 'Spending Score (1-100)']] = sc\n",
        "data"
      ]
    },
    {
      "cell_type": "markdown",
      "id": "b3d56b1f",
      "metadata": {
        "id": "b3d56b1f"
      },
      "source": [
        "# Clustering"
      ]
    },
    {
      "cell_type": "code",
      "execution_count": 26,
      "id": "0ca4cf7d",
      "metadata": {
        "colab": {
          "base_uri": "https://localhost:8080/"
        },
        "id": "0ca4cf7d",
        "outputId": "3675b87a-211a-4322-dcce-23805ddbfac0"
      },
      "outputs": [
        {
          "output_type": "execute_result",
          "data": {
            "text/plain": [
              "[487.65867172744953,\n",
              " 393.57409014865743,\n",
              " 302.7542334541679,\n",
              " 264.3903755157514,\n",
              " 229.21761010421687,\n",
              " 209.77702386241236,\n",
              " 186.9748335444487,\n",
              " 166.86138796268156,\n",
              " 148.770031303827,\n",
              " 136.89694295470616,\n",
              " 125.38480431296324]"
            ]
          },
          "metadata": {},
          "execution_count": 26
        }
      ],
      "source": [
        "TWSS = []\n",
        "k = list(range(2,13))\n",
        "\n",
        "for i in k:\n",
        "    kmeans = KMeans(n_clusters = i , init = 'k-means++')\n",
        "    kmeans.fit(data)\n",
        "    TWSS.append(kmeans.inertia_)\n",
        "    \n",
        "TWSS"
      ]
    },
    {
      "cell_type": "code",
      "execution_count": 27,
      "id": "fe0dc3ad",
      "metadata": {
        "colab": {
          "base_uri": "https://localhost:8080/",
          "height": 0
        },
        "id": "fe0dc3ad",
        "outputId": "be79752a-4fe6-4e68-d8a6-1cefe5d77ab1"
      },
      "outputs": [
        {
          "output_type": "execute_result",
          "data": {
            "text/plain": [
              "Text(0, 0.5, 'TWSS')"
            ]
          },
          "metadata": {},
          "execution_count": 27
        },
        {
          "output_type": "display_data",
          "data": {
            "text/plain": [
              "<Figure size 432x288 with 1 Axes>"
            ],
            "image/png": "[encoded data removed]"
          },
          "metadata": {
            "needs_background": "light"
          }
        }
      ],
      "source": [
        "plt.plot(k, TWSS, 'ro--')\n",
        "plt.xlabel('# Clusters')\n",
        "plt.ylabel('TWSS')"
      ]
    },
    {
      "cell_type": "code",
      "execution_count": 28,
      "id": "7c8a77ee",
      "metadata": {
        "colab": {
          "base_uri": "https://localhost:8080/"
        },
        "id": "7c8a77ee",
        "outputId": "10fa0add-a1b0-4fc4-cbb5-5f133a73b996"
      },
      "outputs": [
        {
          "output_type": "execute_result",
          "data": {
            "text/plain": [
              "KMeans(n_clusters=5)"
            ]
          },
          "metadata": {},
          "execution_count": 28
        }
      ],
      "source": [
        "model = KMeans(n_clusters = 5)\n",
        "model.fit(data)"
      ]
    },
    {
      "cell_type": "markdown",
      "id": "3adc2b92",
      "metadata": {
        "id": "3adc2b92"
      },
      "source": [
        "# Add the Cluster data with Primary dataset"
      ]
    },
    {
      "cell_type": "code",
      "execution_count": 29,
      "id": "a01a8ee8",
      "metadata": {
        "colab": {
          "base_uri": "https://localhost:8080/",
          "height": 424
        },
        "id": "a01a8ee8",
        "outputId": "07108292-acc1-46a0-82f3-e14ec9b0174d"
      },
      "outputs": [
        {
          "output_type": "execute_result",
          "data": {
            "text/plain": [
              "          Age  Annual Income (k$)  Spending Score (1-100)  Gender_Female  \\\n",
              "0   -1.424569           -1.745429               -0.434801              0   \n",
              "1   -1.281035           -1.745429                1.195704              0   \n",
              "2   -1.352802           -1.707083               -1.715913              1   \n",
              "3   -1.137502           -1.707083                1.040418              1   \n",
              "4   -0.563369           -1.668737               -0.395980              1   \n",
              "..        ...                 ...                     ...            ...   \n",
              "195 -0.276302            2.280936                1.118061              1   \n",
              "196  0.441365            2.511014               -0.861839              1   \n",
              "197 -0.491602            2.511014                0.923953              0   \n",
              "198 -0.491602            2.769852               -1.250054              0   \n",
              "199 -0.635135            2.769852                1.273347              0   \n",
              "\n",
              "     Gender_Male  Cluster  \n",
              "0              1        1  \n",
              "1              1        1  \n",
              "2              0        0  \n",
              "3              0        1  \n",
              "4              0        1  \n",
              "..           ...      ...  \n",
              "195            0        3  \n",
              "196            0        2  \n",
              "197            1        3  \n",
              "198            1        2  \n",
              "199            1        3  \n",
              "\n",
              "[200 rows x 6 columns]"
            ],
            "text/html": [
              "\n",
              "  <div id=\"df-ca0918d3-11fb-4dc3-9a34-980961e7732e\">\n",
              "    <div class=\"colab-df-container\">\n",
              "      <div>\n",
              "<style scoped>\n",
              "    .dataframe tbody tr th:only-of-type {\n",
              "        vertical-align: middle;\n",
              "    }\n",
              "\n",
              "    .dataframe tbody tr th {\n",
              "        vertical-align: top;\n",
              "    }\n",
              "\n",
              "    .dataframe thead th {\n",
              "        text-align: right;\n",
              "    }\n",
              "</style>\n",
              "<table border=\"1\" class=\"dataframe\">\n",
              "  <thead>\n",
              "    <tr style=\"text-align: right;\">\n",
              "      <th></th>\n",
              "      <th>Age</th>\n",
              "      <th>Annual Income (k$)</th>\n",
              "      <th>Spending Score (1-100)</th>\n",
              "      <th>Gender_Female</th>\n",
              "      <th>Gender_Male</th>\n",
              "      <th>Cluster</th>\n",
              "    </tr>\n",
              "  </thead>\n",
              "  <tbody>\n",
              "    <tr>\n",
              "      <th>0</th>\n",
              "      <td>-1.424569</td>\n",
              "      <td>-1.745429</td>\n",
              "      <td>-0.434801</td>\n",
              "      <td>0</td>\n",
              "      <td>1</td>\n",
              "      <td>1</td>\n",
              "    </tr>\n",
              "    <tr>\n",
              "      <th>1</th>\n",
              "      <td>-1.281035</td>\n",
              "      <td>-1.745429</td>\n",
              "      <td>1.195704</td>\n",
              "      <td>0</td>\n",
              "      <td>1</td>\n",
              "      <td>1</td>\n",
              "    </tr>\n",
              "    <tr>\n",
              "      <th>2</th>\n",
              "      <td>-1.352802</td>\n",
              "      <td>-1.707083</td>\n",
              "      <td>-1.715913</td>\n",
              "      <td>1</td>\n",
              "      <td>0</td>\n",
              "      <td>0</td>\n",
              "    </tr>\n",
              "    <tr>\n",
              "      <th>3</th>\n",
              "      <td>-1.137502</td>\n",
              "      <td>-1.707083</td>\n",
              "      <td>1.040418</td>\n",
              "      <td>1</td>\n",
              "      <td>0</td>\n",
              "      <td>1</td>\n",
              "    </tr>\n",
              "    <tr>\n",
              "      <th>4</th>\n",
              "      <td>-0.563369</td>\n",
              "      <td>-1.668737</td>\n",
              "      <td>-0.395980</td>\n",
              "      <td>1</td>\n",
              "      <td>0</td>\n",
              "      <td>1</td>\n",
              "    </tr>\n",
              "    <tr>\n",
              "      <th>...</th>\n",
              "      <td>...</td>\n",
              "      <td>...</td>\n",
              "      <td>...</td>\n",
              "      <td>...</td>\n",
              "      <td>...</td>\n",
              "      <td>...</td>\n",
              "    </tr>\n",
              "    <tr>\n",
              "      <th>195</th>\n",
              "      <td>-0.276302</td>\n",
              "      <td>2.280936</td>\n",
              "      <td>1.118061</td>\n",
              "      <td>1</td>\n",
              "      <td>0</td>\n",
              "      <td>3</td>\n",
              "    </tr>\n",
              "    <tr>\n",
              "      <th>196</th>\n",
              "      <td>0.441365</td>\n",
              "      <td>2.511014</td>\n",
              "      <td>-0.861839</td>\n",
              "      <td>1</td>\n",
              "      <td>0</td>\n",
              "      <td>2</td>\n",
              "    </tr>\n",
              "    <tr>\n",
              "      <th>197</th>\n",
              "      <td>-0.491602</td>\n",
              "      <td>2.511014</td>\n",
              "      <td>0.923953</td>\n",
              "      <td>0</td>\n",
              "      <td>1</td>\n",
              "      <td>3</td>\n",
              "    </tr>\n",
              "    <tr>\n",
              "      <th>198</th>\n",
              "      <td>-0.491602</td>\n",
              "      <td>2.769852</td>\n",
              "      <td>-1.250054</td>\n",
              "      <td>0</td>\n",
              "      <td>1</td>\n",
              "      <td>2</td>\n",
              "    </tr>\n",
              "    <tr>\n",
              "      <th>199</th>\n",
              "      <td>-0.635135</td>\n",
              "      <td>2.769852</td>\n",
              "      <td>1.273347</td>\n",
              "      <td>0</td>\n",
              "      <td>1</td>\n",
              "      <td>3</td>\n",
              "    </tr>\n",
              "  </tbody>\n",
              "</table>\n",
              "<p>200 rows × 6 columns</p>\n",
              "</div>\n",
              "      <button class=\"colab-df-convert\" onclick=\"convertToInteractive('df-ca0918d3-11fb-4dc3-9a34-980961e7732e')\"\n",
              "              title=\"Convert this dataframe to an interactive table.\"\n",
              "              style=\"display:none;\">\n",
              "        \n",
              "  <svg xmlns=\"http://www.w3.org/2000/svg\" height=\"24px\"viewBox=\"0 0 24 24\"\n",
              "       width=\"24px\">\n",
              "    <path d=\"M0 0h24v24H0V0z\" fill=\"none\"/>\n",
              "    <path d=\"M18.56 5.44l.94 2.06.94-2.06 2.06-.94-2.06-.94-.94-2.06-.94 2.06-2.06.94zm-11 1L8.5 8.5l.94-2.06 2.06-.94-2.06-.94L8.5 2.5l-.94 2.06-2.06.94zm10 10l.94 2.06.94-2.06 2.06-.94-2.06-.94-.94-2.06-.94 2.06-2.06.94z\"/><path d=\"M17.41 7.96l-1.37-1.37c-.4-.4-.92-.59-1.43-.59-.52 0-1.04.2-1.43.59L10.3 9.45l-7.72 7.72c-.78.78-.78 2.05 0 2.83L4 21.41c.39.39.9.59 1.41.59.51 0 1.02-.2 1.41-.59l7.78-7.78 2.81-2.81c.8-.78.8-2.07 0-2.86zM5.41 20L4 18.59l7.72-7.72 1.47 1.35L5.41 20z\"/>\n",
              "  </svg>\n",
              "      </button>\n",
              "      \n",
              "  <style>\n",
              "    .colab-df-container {\n",
              "      display:flex;\n",
              "      flex-wrap:wrap;\n",
              "      gap: 12px;\n",
              "    }\n",
              "\n",
              "    .colab-df-convert {\n",
              "      background-color: #E8F0FE;\n",
              "      border: none;\n",
              "      border-radius: 50%;\n",
              "      cursor: pointer;\n",
              "      display: none;\n",
              "      fill: #1967D2;\n",
              "      height: 32px;\n",
              "      padding: 0 0 0 0;\n",
              "      width: 32px;\n",
              "    }\n",
              "\n",
              "    .colab-df-convert:hover {\n",
              "      background-color: #E2EBFA;\n",
              "      box-shadow: 0px 1px 2px rgba(60, 64, 67, 0.3), 0px 1px 3px 1px rgba(60, 64, 67, 0.15);\n",
              "      fill: #174EA6;\n",
              "    }\n",
              "\n",
              "    [theme=dark] .colab-df-convert {\n",
              "      background-color: #3B4455;\n",
              "      fill: #D2E3FC;\n",
              "    }\n",
              "\n",
              "    [theme=dark] .colab-df-convert:hover {\n",
              "      background-color: #434B5C;\n",
              "      box-shadow: 0px 1px 3px 1px rgba(0, 0, 0, 0.15);\n",
              "      filter: drop-shadow(0px 1px 2px rgba(0, 0, 0, 0.3));\n",
              "      fill: #FFFFFF;\n",
              "    }\n",
              "  </style>\n",
              "\n",
              "      <script>\n",
              "        const buttonEl =\n",
              "          document.querySelector('#df-ca0918d3-11fb-4dc3-9a34-980961e7732e button.colab-df-convert');\n",
              "        buttonEl.style.display =\n",
              "          google.colab.kernel.accessAllowed ? 'block' : 'none';\n",
              "\n",
              "        async function convertToInteractive(key) {\n",
              "          const element = document.querySelector('#df-ca0918d3-11fb-4dc3-9a34-980961e7732e');\n",
              "          const dataTable =\n",
              "            await google.colab.kernel.invokeFunction('convertToInteractive',\n",
              "                                                     [key], {});\n",
              "          if (!dataTable) return;\n",
              "\n",
              "          const docLinkHtml = 'Like what you see? Visit the ' +\n",
              "            '<a target=\"_blank\" href=https://colab.research.google.com/notebooks/data_table.ipynb>data table notebook</a>'\n",
              "            + ' to learn more about interactive tables.';\n",
              "          element.innerHTML = '';\n",
              "          dataTable['output_type'] = 'display_data';\n",
              "          await google.colab.output.renderOutput(dataTable, element);\n",
              "          const docLink = document.createElement('div');\n",
              "          docLink.innerHTML = docLinkHtml;\n",
              "          element.appendChild(docLink);\n",
              "        }\n",
              "      </script>\n",
              "    </div>\n",
              "  </div>\n",
              "  "
            ]
          },
          "metadata": {},
          "execution_count": 29
        }
      ],
      "source": [
        "mb = pd.Series(model.labels_)\n",
        "data['Cluster'] = mb\n",
        "data"
      ]
    },
    {
      "cell_type": "code",
      "execution_count": 30,
      "id": "06f4e2ca",
      "metadata": {
        "colab": {
          "base_uri": "https://localhost:8080/",
          "height": 424
        },
        "id": "06f4e2ca",
        "outputId": "31969ea1-adb9-48a4-e781-26b323126ae8"
      },
      "outputs": [
        {
          "output_type": "execute_result",
          "data": {
            "text/plain": [
              "      Age  Annual Income (k$)  Spending Score (1-100)  Gender_Female  \\\n",
              "0    19.0               15.00                    39.0              0   \n",
              "1    21.0               15.00                    81.0              0   \n",
              "2    20.0               16.00                     6.0              1   \n",
              "3    23.0               16.00                    77.0              1   \n",
              "4    31.0               17.00                    40.0              1   \n",
              "..    ...                 ...                     ...            ...   \n",
              "195  35.0              120.00                    79.0              1   \n",
              "196  45.0              126.00                    28.0              1   \n",
              "197  32.0              126.00                    74.0              0   \n",
              "198  32.0              132.75                    18.0              0   \n",
              "199  30.0              132.75                    83.0              0   \n",
              "\n",
              "     Gender_Male  Cluster  \n",
              "0              1        1  \n",
              "1              1        1  \n",
              "2              0        0  \n",
              "3              0        1  \n",
              "4              0        1  \n",
              "..           ...      ...  \n",
              "195            0        3  \n",
              "196            0        2  \n",
              "197            1        3  \n",
              "198            1        2  \n",
              "199            1        3  \n",
              "\n",
              "[200 rows x 6 columns]"
            ],
            "text/html": [
              "\n",
              "  <div id=\"df-d05245f7-3c02-48bb-a866-f37c691c9bed\">\n",
              "    <div class=\"colab-df-container\">\n",
              "      <div>\n",
              "<style scoped>\n",
              "    .dataframe tbody tr th:only-of-type {\n",
              "        vertical-align: middle;\n",
              "    }\n",
              "\n",
              "    .dataframe tbody tr th {\n",
              "        vertical-align: top;\n",
              "    }\n",
              "\n",
              "    .dataframe thead th {\n",
              "        text-align: right;\n",
              "    }\n",
              "</style>\n",
              "<table border=\"1\" class=\"dataframe\">\n",
              "  <thead>\n",
              "    <tr style=\"text-align: right;\">\n",
              "      <th></th>\n",
              "      <th>Age</th>\n",
              "      <th>Annual Income (k$)</th>\n",
              "      <th>Spending Score (1-100)</th>\n",
              "      <th>Gender_Female</th>\n",
              "      <th>Gender_Male</th>\n",
              "      <th>Cluster</th>\n",
              "    </tr>\n",
              "  </thead>\n",
              "  <tbody>\n",
              "    <tr>\n",
              "      <th>0</th>\n",
              "      <td>19.0</td>\n",
              "      <td>15.00</td>\n",
              "      <td>39.0</td>\n",
              "      <td>0</td>\n",
              "      <td>1</td>\n",
              "      <td>1</td>\n",
              "    </tr>\n",
              "    <tr>\n",
              "      <th>1</th>\n",
              "      <td>21.0</td>\n",
              "      <td>15.00</td>\n",
              "      <td>81.0</td>\n",
              "      <td>0</td>\n",
              "      <td>1</td>\n",
              "      <td>1</td>\n",
              "    </tr>\n",
              "    <tr>\n",
              "      <th>2</th>\n",
              "      <td>20.0</td>\n",
              "      <td>16.00</td>\n",
              "      <td>6.0</td>\n",
              "      <td>1</td>\n",
              "      <td>0</td>\n",
              "      <td>0</td>\n",
              "    </tr>\n",
              "    <tr>\n",
              "      <th>3</th>\n",
              "      <td>23.0</td>\n",
              "      <td>16.00</td>\n",
              "      <td>77.0</td>\n",
              "      <td>1</td>\n",
              "      <td>0</td>\n",
              "      <td>1</td>\n",
              "    </tr>\n",
              "    <tr>\n",
              "      <th>4</th>\n",
              "      <td>31.0</td>\n",
              "      <td>17.00</td>\n",
              "      <td>40.0</td>\n",
              "      <td>1</td>\n",
              "      <td>0</td>\n",
              "      <td>1</td>\n",
              "    </tr>\n",
              "    <tr>\n",
              "      <th>...</th>\n",
              "      <td>...</td>\n",
              "      <td>...</td>\n",
              "      <td>...</td>\n",
              "      <td>...</td>\n",
              "      <td>...</td>\n",
              "      <td>...</td>\n",
              "    </tr>\n",
              "    <tr>\n",
              "      <th>195</th>\n",
              "      <td>35.0</td>\n",
              "      <td>120.00</td>\n",
              "      <td>79.0</td>\n",
              "      <td>1</td>\n",
              "      <td>0</td>\n",
              "      <td>3</td>\n",
              "    </tr>\n",
              "    <tr>\n",
              "      <th>196</th>\n",
              "      <td>45.0</td>\n",
              "      <td>126.00</td>\n",
              "      <td>28.0</td>\n",
              "      <td>1</td>\n",
              "      <td>0</td>\n",
              "      <td>2</td>\n",
              "    </tr>\n",
              "    <tr>\n",
              "      <th>197</th>\n",
              "      <td>32.0</td>\n",
              "      <td>126.00</td>\n",
              "      <td>74.0</td>\n",
              "      <td>0</td>\n",
              "      <td>1</td>\n",
              "      <td>3</td>\n",
              "    </tr>\n",
              "    <tr>\n",
              "      <th>198</th>\n",
              "      <td>32.0</td>\n",
              "      <td>132.75</td>\n",
              "      <td>18.0</td>\n",
              "      <td>0</td>\n",
              "      <td>1</td>\n",
              "      <td>2</td>\n",
              "    </tr>\n",
              "    <tr>\n",
              "      <th>199</th>\n",
              "      <td>30.0</td>\n",
              "      <td>132.75</td>\n",
              "      <td>83.0</td>\n",
              "      <td>0</td>\n",
              "      <td>1</td>\n",
              "      <td>3</td>\n",
              "    </tr>\n",
              "  </tbody>\n",
              "</table>\n",
              "<p>200 rows × 6 columns</p>\n",
              "</div>\n",
              "      <button class=\"colab-df-convert\" onclick=\"convertToInteractive('df-d05245f7-3c02-48bb-a866-f37c691c9bed')\"\n",
              "              title=\"Convert this dataframe to an interactive table.\"\n",
              "              style=\"display:none;\">\n",
              "        \n",
              "  <svg xmlns=\"http://www.w3.org/2000/svg\" height=\"24px\"viewBox=\"0 0 24 24\"\n",
              "       width=\"24px\">\n",
              "    <path d=\"M0 0h24v24H0V0z\" fill=\"none\"/>\n",
              "    <path d=\"M18.56 5.44l.94 2.06.94-2.06 2.06-.94-2.06-.94-.94-2.06-.94 2.06-2.06.94zm-11 1L8.5 8.5l.94-2.06 2.06-.94-2.06-.94L8.5 2.5l-.94 2.06-2.06.94zm10 10l.94 2.06.94-2.06 2.06-.94-2.06-.94-.94-2.06-.94 2.06-2.06.94z\"/><path d=\"M17.41 7.96l-1.37-1.37c-.4-.4-.92-.59-1.43-.59-.52 0-1.04.2-1.43.59L10.3 9.45l-7.72 7.72c-.78.78-.78 2.05 0 2.83L4 21.41c.39.39.9.59 1.41.59.51 0 1.02-.2 1.41-.59l7.78-7.78 2.81-2.81c.8-.78.8-2.07 0-2.86zM5.41 20L4 18.59l7.72-7.72 1.47 1.35L5.41 20z\"/>\n",
              "  </svg>\n",
              "      </button>\n",
              "      \n",
              "  <style>\n",
              "    .colab-df-container {\n",
              "      display:flex;\n",
              "      flex-wrap:wrap;\n",
              "      gap: 12px;\n",
              "    }\n",
              "\n",
              "    .colab-df-convert {\n",
              "      background-color: #E8F0FE;\n",
              "      border: none;\n",
              "      border-radius: 50%;\n",
              "      cursor: pointer;\n",
              "      display: none;\n",
              "      fill: #1967D2;\n",
              "      height: 32px;\n",
              "      padding: 0 0 0 0;\n",
              "      width: 32px;\n",
              "    }\n",
              "\n",
              "    .colab-df-convert:hover {\n",
              "      background-color: #E2EBFA;\n",
              "      box-shadow: 0px 1px 2px rgba(60, 64, 67, 0.3), 0px 1px 3px 1px rgba(60, 64, 67, 0.15);\n",
              "      fill: #174EA6;\n",
              "    }\n",
              "\n",
              "    [theme=dark] .colab-df-convert {\n",
              "      background-color: #3B4455;\n",
              "      fill: #D2E3FC;\n",
              "    }\n",
              "\n",
              "    [theme=dark] .colab-df-convert:hover {\n",
              "      background-color: #434B5C;\n",
              "      box-shadow: 0px 1px 3px 1px rgba(0, 0, 0, 0.15);\n",
              "      filter: drop-shadow(0px 1px 2px rgba(0, 0, 0, 0.3));\n",
              "      fill: #FFFFFF;\n",
              "    }\n",
              "  </style>\n",
              "\n",
              "      <script>\n",
              "        const buttonEl =\n",
              "          document.querySelector('#df-d05245f7-3c02-48bb-a866-f37c691c9bed button.colab-df-convert');\n",
              "        buttonEl.style.display =\n",
              "          google.colab.kernel.accessAllowed ? 'block' : 'none';\n",
              "\n",
              "        async function convertToInteractive(key) {\n",
              "          const element = document.querySelector('#df-d05245f7-3c02-48bb-a866-f37c691c9bed');\n",
              "          const dataTable =\n",
              "            await google.colab.kernel.invokeFunction('convertToInteractive',\n",
              "                                                     [key], {});\n",
              "          if (!dataTable) return;\n",
              "\n",
              "          const docLinkHtml = 'Like what you see? Visit the ' +\n",
              "            '<a target=\"_blank\" href=https://colab.research.google.com/notebooks/data_table.ipynb>data table notebook</a>'\n",
              "            + ' to learn more about interactive tables.';\n",
              "          element.innerHTML = '';\n",
              "          dataTable['output_type'] = 'display_data';\n",
              "          await google.colab.output.renderOutput(dataTable, element);\n",
              "          const docLink = document.createElement('div');\n",
              "          docLink.innerHTML = docLinkHtml;\n",
              "          element.appendChild(docLink);\n",
              "        }\n",
              "      </script>\n",
              "    </div>\n",
              "  </div>\n",
              "  "
            ]
          },
          "metadata": {},
          "execution_count": 30
        }
      ],
      "source": [
        "data[['Age', 'Annual Income (k$)', 'Spending Score (1-100)']] = scaler.inverse_transform(data[['Age', 'Annual Income (k$)', 'Spending Score (1-100)']])\n",
        "data"
      ]
    },
    {
      "cell_type": "code",
      "execution_count": 31,
      "id": "dc67811f",
      "metadata": {
        "colab": {
          "base_uri": "https://localhost:8080/",
          "height": 424
        },
        "id": "dc67811f",
        "outputId": "de11b795-d665-4b20-9cb6-a4226a43937e"
      },
      "outputs": [
        {
          "output_type": "execute_result",
          "data": {
            "text/plain": [
              "      Age  Annual Income (k$)  Spending Score (1-100)  Gender_Female  \\\n",
              "0    19.0               15.00                    39.0              0   \n",
              "1    21.0               15.00                    81.0              0   \n",
              "2    20.0               16.00                     6.0              1   \n",
              "3    23.0               16.00                    77.0              1   \n",
              "4    31.0               17.00                    40.0              1   \n",
              "..    ...                 ...                     ...            ...   \n",
              "195  35.0              120.00                    79.0              1   \n",
              "196  45.0              126.00                    28.0              1   \n",
              "197  32.0              126.00                    74.0              0   \n",
              "198  32.0              132.75                    18.0              0   \n",
              "199  30.0              132.75                    83.0              0   \n",
              "\n",
              "     Gender_Male  Cluster  \n",
              "0              1        1  \n",
              "1              1        1  \n",
              "2              0        0  \n",
              "3              0        1  \n",
              "4              0        1  \n",
              "..           ...      ...  \n",
              "195            0        3  \n",
              "196            0        2  \n",
              "197            1        3  \n",
              "198            1        2  \n",
              "199            1        3  \n",
              "\n",
              "[200 rows x 6 columns]"
            ],
            "text/html": [
              "\n",
              "  <div id=\"df-025add45-31ff-417f-8ecf-0cd6e8ed5274\">\n",
              "    <div class=\"colab-df-container\">\n",
              "      <div>\n",
              "<style scoped>\n",
              "    .dataframe tbody tr th:only-of-type {\n",
              "        vertical-align: middle;\n",
              "    }\n",
              "\n",
              "    .dataframe tbody tr th {\n",
              "        vertical-align: top;\n",
              "    }\n",
              "\n",
              "    .dataframe thead th {\n",
              "        text-align: right;\n",
              "    }\n",
              "</style>\n",
              "<table border=\"1\" class=\"dataframe\">\n",
              "  <thead>\n",
              "    <tr style=\"text-align: right;\">\n",
              "      <th></th>\n",
              "      <th>Age</th>\n",
              "      <th>Annual Income (k$)</th>\n",
              "      <th>Spending Score (1-100)</th>\n",
              "      <th>Gender_Female</th>\n",
              "      <th>Gender_Male</th>\n",
              "      <th>Cluster</th>\n",
              "    </tr>\n",
              "  </thead>\n",
              "  <tbody>\n",
              "    <tr>\n",
              "      <th>0</th>\n",
              "      <td>19.0</td>\n",
              "      <td>15.00</td>\n",
              "      <td>39.0</td>\n",
              "      <td>0</td>\n",
              "      <td>1</td>\n",
              "      <td>1</td>\n",
              "    </tr>\n",
              "    <tr>\n",
              "      <th>1</th>\n",
              "      <td>21.0</td>\n",
              "      <td>15.00</td>\n",
              "      <td>81.0</td>\n",
              "      <td>0</td>\n",
              "      <td>1</td>\n",
              "      <td>1</td>\n",
              "    </tr>\n",
              "    <tr>\n",
              "      <th>2</th>\n",
              "      <td>20.0</td>\n",
              "      <td>16.00</td>\n",
              "      <td>6.0</td>\n",
              "      <td>1</td>\n",
              "      <td>0</td>\n",
              "      <td>0</td>\n",
              "    </tr>\n",
              "    <tr>\n",
              "      <th>3</th>\n",
              "      <td>23.0</td>\n",
              "      <td>16.00</td>\n",
              "      <td>77.0</td>\n",
              "      <td>1</td>\n",
              "      <td>0</td>\n",
              "      <td>1</td>\n",
              "    </tr>\n",
              "    <tr>\n",
              "      <th>4</th>\n",
              "      <td>31.0</td>\n",
              "      <td>17.00</td>\n",
              "      <td>40.0</td>\n",
              "      <td>1</td>\n",
              "      <td>0</td>\n",
              "      <td>1</td>\n",
              "    </tr>\n",
              "    <tr>\n",
              "      <th>...</th>\n",
              "      <td>...</td>\n",
              "      <td>...</td>\n",
              "      <td>...</td>\n",
              "      <td>...</td>\n",
              "      <td>...</td>\n",
              "      <td>...</td>\n",
              "    </tr>\n",
              "    <tr>\n",
              "      <th>195</th>\n",
              "      <td>35.0</td>\n",
              "      <td>120.00</td>\n",
              "      <td>79.0</td>\n",
              "      <td>1</td>\n",
              "      <td>0</td>\n",
              "      <td>3</td>\n",
              "    </tr>\n",
              "    <tr>\n",
              "      <th>196</th>\n",
              "      <td>45.0</td>\n",
              "      <td>126.00</td>\n",
              "      <td>28.0</td>\n",
              "      <td>1</td>\n",
              "      <td>0</td>\n",
              "      <td>2</td>\n",
              "    </tr>\n",
              "    <tr>\n",
              "      <th>197</th>\n",
              "      <td>32.0</td>\n",
              "      <td>126.00</td>\n",
              "      <td>74.0</td>\n",
              "      <td>0</td>\n",
              "      <td>1</td>\n",
              "      <td>3</td>\n",
              "    </tr>\n",
              "    <tr>\n",
              "      <th>198</th>\n",
              "      <td>32.0</td>\n",
              "      <td>132.75</td>\n",
              "      <td>18.0</td>\n",
              "      <td>0</td>\n",
              "      <td>1</td>\n",
              "      <td>2</td>\n",
              "    </tr>\n",
              "    <tr>\n",
              "      <th>199</th>\n",
              "      <td>30.0</td>\n",
              "      <td>132.75</td>\n",
              "      <td>83.0</td>\n",
              "      <td>0</td>\n",
              "      <td>1</td>\n",
              "      <td>3</td>\n",
              "    </tr>\n",
              "  </tbody>\n",
              "</table>\n",
              "<p>200 rows × 6 columns</p>\n",
              "</div>\n",
              "      <button class=\"colab-df-convert\" onclick=\"convertToInteractive('df-025add45-31ff-417f-8ecf-0cd6e8ed5274')\"\n",
              "              title=\"Convert this dataframe to an interactive table.\"\n",
              "              style=\"display:none;\">\n",
              "        \n",
              "  <svg xmlns=\"http://www.w3.org/2000/svg\" height=\"24px\"viewBox=\"0 0 24 24\"\n",
              "       width=\"24px\">\n",
              "    <path d=\"M0 0h24v24H0V0z\" fill=\"none\"/>\n",
              "    <path d=\"M18.56 5.44l.94 2.06.94-2.06 2.06-.94-2.06-.94-.94-2.06-.94 2.06-2.06.94zm-11 1L8.5 8.5l.94-2.06 2.06-.94-2.06-.94L8.5 2.5l-.94 2.06-2.06.94zm10 10l.94 2.06.94-2.06 2.06-.94-2.06-.94-.94-2.06-.94 2.06-2.06.94z\"/><path d=\"M17.41 7.96l-1.37-1.37c-.4-.4-.92-.59-1.43-.59-.52 0-1.04.2-1.43.59L10.3 9.45l-7.72 7.72c-.78.78-.78 2.05 0 2.83L4 21.41c.39.39.9.59 1.41.59.51 0 1.02-.2 1.41-.59l7.78-7.78 2.81-2.81c.8-.78.8-2.07 0-2.86zM5.41 20L4 18.59l7.72-7.72 1.47 1.35L5.41 20z\"/>\n",
              "  </svg>\n",
              "      </button>\n",
              "      \n",
              "  <style>\n",
              "    .colab-df-container {\n",
              "      display:flex;\n",
              "      flex-wrap:wrap;\n",
              "      gap: 12px;\n",
              "    }\n",
              "\n",
              "    .colab-df-convert {\n",
              "      background-color: #E8F0FE;\n",
              "      border: none;\n",
              "      border-radius: 50%;\n",
              "      cursor: pointer;\n",
              "      display: none;\n",
              "      fill: #1967D2;\n",
              "      height: 32px;\n",
              "      padding: 0 0 0 0;\n",
              "      width: 32px;\n",
              "    }\n",
              "\n",
              "    .colab-df-convert:hover {\n",
              "      background-color: #E2EBFA;\n",
              "      box-shadow: 0px 1px 2px rgba(60, 64, 67, 0.3), 0px 1px 3px 1px rgba(60, 64, 67, 0.15);\n",
              "      fill: #174EA6;\n",
              "    }\n",
              "\n",
              "    [theme=dark] .colab-df-convert {\n",
              "      background-color: #3B4455;\n",
              "      fill: #D2E3FC;\n",
              "    }\n",
              "\n",
              "    [theme=dark] .colab-df-convert:hover {\n",
              "      background-color: #434B5C;\n",
              "      box-shadow: 0px 1px 3px 1px rgba(0, 0, 0, 0.15);\n",
              "      filter: drop-shadow(0px 1px 2px rgba(0, 0, 0, 0.3));\n",
              "      fill: #FFFFFF;\n",
              "    }\n",
              "  </style>\n",
              "\n",
              "      <script>\n",
              "        const buttonEl =\n",
              "          document.querySelector('#df-025add45-31ff-417f-8ecf-0cd6e8ed5274 button.colab-df-convert');\n",
              "        buttonEl.style.display =\n",
              "          google.colab.kernel.accessAllowed ? 'block' : 'none';\n",
              "\n",
              "        async function convertToInteractive(key) {\n",
              "          const element = document.querySelector('#df-025add45-31ff-417f-8ecf-0cd6e8ed5274');\n",
              "          const dataTable =\n",
              "            await google.colab.kernel.invokeFunction('convertToInteractive',\n",
              "                                                     [key], {});\n",
              "          if (!dataTable) return;\n",
              "\n",
              "          const docLinkHtml = 'Like what you see? Visit the ' +\n",
              "            '<a target=\"_blank\" href=https://colab.research.google.com/notebooks/data_table.ipynb>data table notebook</a>'\n",
              "            + ' to learn more about interactive tables.';\n",
              "          element.innerHTML = '';\n",
              "          dataTable['output_type'] = 'display_data';\n",
              "          await google.colab.output.renderOutput(dataTable, element);\n",
              "          const docLink = document.createElement('div');\n",
              "          docLink.innerHTML = docLinkHtml;\n",
              "          element.appendChild(docLink);\n",
              "        }\n",
              "      </script>\n",
              "    </div>\n",
              "  </div>\n",
              "  "
            ]
          },
          "metadata": {},
          "execution_count": 31
        }
      ],
      "source": [
        "mb=pd.Series(model.labels_)\n",
        "data"
      ]
    },
    {
      "cell_type": "markdown",
      "id": "4736f97e",
      "metadata": {
        "id": "4736f97e"
      },
      "source": [
        "# Split Data Into Dependent & Independent Features"
      ]
    },
    {
      "cell_type": "code",
      "execution_count": 32,
      "id": "05e8a08a",
      "metadata": {
        "colab": {
          "base_uri": "https://localhost:8080/"
        },
        "id": "05e8a08a",
        "outputId": "4e9d2821-668f-4482-8ab2-5d4f8d811d1f"
      },
      "outputs": [
        {
          "output_type": "execute_result",
          "data": {
            "text/plain": [
              "(      Age  Annual Income (k$)  Spending Score (1-100)  Gender_Female  \\\n",
              " 0    19.0               15.00                    39.0              0   \n",
              " 1    21.0               15.00                    81.0              0   \n",
              " 2    20.0               16.00                     6.0              1   \n",
              " 3    23.0               16.00                    77.0              1   \n",
              " 4    31.0               17.00                    40.0              1   \n",
              " ..    ...                 ...                     ...            ...   \n",
              " 195  35.0              120.00                    79.0              1   \n",
              " 196  45.0              126.00                    28.0              1   \n",
              " 197  32.0              126.00                    74.0              0   \n",
              " 198  32.0              132.75                    18.0              0   \n",
              " 199  30.0              132.75                    83.0              0   \n",
              " \n",
              "      Gender_Male  \n",
              " 0              1  \n",
              " 1              1  \n",
              " 2              0  \n",
              " 3              0  \n",
              " 4              0  \n",
              " ..           ...  \n",
              " 195            0  \n",
              " 196            0  \n",
              " 197            1  \n",
              " 198            1  \n",
              " 199            1  \n",
              " \n",
              " [200 rows x 5 columns], 0      1\n",
              " 1      1\n",
              " 2      0\n",
              " 3      1\n",
              " 4      1\n",
              "       ..\n",
              " 195    3\n",
              " 196    2\n",
              " 197    3\n",
              " 198    2\n",
              " 199    3\n",
              " Name: Cluster, Length: 200, dtype: int32)"
            ]
          },
          "metadata": {},
          "execution_count": 32
        }
      ],
      "source": [
        "X=data.drop('Cluster',axis=1)\n",
        "Y=data['Cluster']\n",
        "X, Y"
      ]
    },
    {
      "cell_type": "markdown",
      "id": "0d3780d9",
      "metadata": {
        "id": "0d3780d9"
      },
      "source": [
        "# Split the data into Training And Testing Data"
      ]
    },
    {
      "cell_type": "code",
      "execution_count": 34,
      "id": "11eead80",
      "metadata": {
        "colab": {
          "base_uri": "https://localhost:8080/"
        },
        "id": "11eead80",
        "outputId": "269624db-f0ee-4105-e9c3-7233f795a343"
      },
      "outputs": [
        {
          "output_type": "execute_result",
          "data": {
            "text/plain": [
              "((160, 5), (40, 5), (160,), (40,))"
            ]
          },
          "metadata": {},
          "execution_count": 34
        }
      ],
      "source": [
        "X_train,X_test,Y_train,Y_test=train_test_split(X,Y,test_size=0.2,random_state=42)\n",
        "X_train.shape, X_test.shape, Y_train.shape, Y_test.shape"
      ]
    },
    {
      "cell_type": "markdown",
      "id": "d7a4605a",
      "metadata": {
        "id": "d7a4605a"
      },
      "source": [
        "# Train Model & Evaluate"
      ]
    },
    {
      "cell_type": "code",
      "execution_count": 35,
      "id": "b0d1bb70",
      "metadata": {
        "colab": {
          "base_uri": "https://localhost:8080/"
        },
        "id": "b0d1bb70",
        "outputId": "c336e3bc-e2b3-4f07-8c5f-7c9554115b37"
      },
      "outputs": [
        {
          "output_type": "execute_result",
          "data": {
            "text/plain": [
              "DecisionTreeClassifier()"
            ]
          },
          "metadata": {},
          "execution_count": 35
        }
      ],
      "source": [
        "model=DecisionTreeClassifier()\n",
        "model.fit(X_train,Y_train)"
      ]
    },
    {
      "cell_type": "markdown",
      "id": "2eee41dd",
      "metadata": {
        "id": "2eee41dd"
      },
      "source": [
        "# Evaluate"
      ]
    },
    {
      "cell_type": "code",
      "execution_count": 36,
      "id": "76bb090a",
      "metadata": {
        "colab": {
          "base_uri": "https://localhost:8080/"
        },
        "id": "76bb090a",
        "outputId": "5086cf1a-425f-412a-a10d-ff3b3ed2ff7b"
      },
      "outputs": [
        {
          "output_type": "execute_result",
          "data": {
            "text/plain": [
              "1.0"
            ]
          },
          "metadata": {},
          "execution_count": 36
        }
      ],
      "source": [
        "model.score(X_train, Y_train)"
      ]
    },
    {
      "cell_type": "code",
      "execution_count": 37,
      "id": "5e83764a",
      "metadata": {
        "colab": {
          "base_uri": "https://localhost:8080/"
        },
        "id": "5e83764a",
        "outputId": "efd25340-11b6-4e96-f72d-b4db075827e8"
      },
      "outputs": [
        {
          "output_type": "execute_result",
          "data": {
            "text/plain": [
              "0.975"
            ]
          },
          "metadata": {},
          "execution_count": 37
        }
      ],
      "source": [
        "model.score(X_test, Y_test)"
      ]
    },
    {
      "cell_type": "code",
      "execution_count": 38,
      "id": "f46bd1f7",
      "metadata": {
        "id": "f46bd1f7"
      },
      "outputs": [],
      "source": [
        "Y_pred = model.predict(X_test)"
      ]
    },
    {
      "cell_type": "code",
      "execution_count": 39,
      "id": "ca9be588",
      "metadata": {
        "colab": {
          "base_uri": "https://localhost:8080/"
        },
        "id": "ca9be588",
        "outputId": "3808ba8f-453c-49ec-afe1-6e757d7f552b"
      },
      "outputs": [
        {
          "output_type": "execute_result",
          "data": {
            "text/plain": [
              "0.975"
            ]
          },
          "metadata": {},
          "execution_count": 39
        }
      ],
      "source": [
        "accuracy_score(Y_pred, Y_test)"
      ]
    },
    {
      "cell_type": "code",
      "execution_count": 40,
      "id": "25e0b5a6",
      "metadata": {
        "colab": {
          "base_uri": "https://localhost:8080/"
        },
        "id": "25e0b5a6",
        "outputId": "364f0e14-0c93-436a-e740-c0b7a7ecf579"
      },
      "outputs": [
        {
          "output_type": "stream",
          "name": "stdout",
          "text": [
            "              precision    recall  f1-score   support\n",
            "\n",
            "           0       1.00      1.00      1.00         3\n",
            "           1       1.00      1.00      1.00        11\n",
            "           2       0.92      1.00      0.96        11\n",
            "           3       1.00      1.00      1.00         5\n",
            "           4       1.00      0.90      0.95        10\n",
            "\n",
            "    accuracy                           0.97        40\n",
            "   macro avg       0.98      0.98      0.98        40\n",
            "weighted avg       0.98      0.97      0.97        40\n",
            "\n"
          ]
        }
      ],
      "source": [
        "print(classification_report(Y_pred, Y_test))"
      ]
    },
    {
      "cell_type": "code",
      "execution_count": 41,
      "id": "ce575202",
      "metadata": {
        "colab": {
          "base_uri": "https://localhost:8080/"
        },
        "id": "ce575202",
        "outputId": "1e69c67b-87c0-458c-ad8a-f7932c452411"
      },
      "outputs": [
        {
          "output_type": "execute_result",
          "data": {
            "text/plain": [
              "array([[ 3,  0,  0,  0,  0],\n",
              "       [ 0, 11,  0,  0,  0],\n",
              "       [ 0,  0, 11,  0,  0],\n",
              "       [ 0,  0,  0,  5,  0],\n",
              "       [ 0,  0,  1,  0,  9]])"
            ]
          },
          "metadata": {},
          "execution_count": 41
        }
      ],
      "source": [
        "cm = confusion_matrix(Y_pred, Y_test)\n",
        "cm"
      ]
    },
    {
      "cell_type": "code",
      "execution_count": 42,
      "id": "00a24f88",
      "metadata": {
        "colab": {
          "base_uri": "https://localhost:8080/",
          "height": 265
        },
        "id": "00a24f88",
        "outputId": "99dfd7bc-e84c-4291-e065-1e2d7b4a30a7"
      },
      "outputs": [
        {
          "output_type": "display_data",
          "data": {
            "text/plain": [
              "<Figure size 432x288 with 2 Axes>"
            ],
            "image/png": "[encoded data removed]"
          },
          "metadata": {
            "needs_background": "light"
          }
        }
      ],
      "source": [
        "sns.heatmap(cm, annot=True);"
      ]
    }
  ],
  "metadata": {
    "kernelspec": {
      "display_name": "Python 3 (ipykernel)",
      "language": "python",
      "name": "python3"
    },
    "language_info": {
      "codemirror_mode": {
        "name": "ipython",
        "version": 3
      },
      "file_extension": ".py",
      "mimetype": "text/x-python",
      "name": "python",
      "nbconvert_exporter": "python",
      "pygments_lexer": "ipython3",
      "version": "3.9.12"
    },
    "colab": {
      "provenance": [],
      "collapsed_sections": [
        "b3763f84",
        "e3ed487b",
        "06317730",
        "b3d56b1f"
      ]
    }
  },
  "nbformat": 4,
  "nbformat_minor": 5
}