{
 "cells": [
  {
   "cell_type": "code",
   "execution_count": 1,
   "id": "e7ff98f4",
   "metadata": {},
   "outputs": [],
   "source": [
    "import numpy as np"
   ]
  },
  {
   "cell_type": "code",
   "execution_count": 3,
   "id": "04797384",
   "metadata": {},
   "outputs": [],
   "source": [
    "import pandas as pd\n",
    "import flask\n",
    "\n",
    "from flask import Flask, request, redirect, render_template\n",
    "import pickle\n",
    "import requests\n",
    "\n",
    "# NOTE: you must manually set API_KEY below using information retrieved from your IBM Cloud account.\n",
    "API_KEY = \"CiuJpHjNdNw7WeT76F7JogN9dNwsjn9-CROnxedgPZza\"\n",
    "token_response = requests.post('https://iam.cloud.ibm.com/identity/token', data={\"apikey\":\n",
    " API_KEY, \"grant_type\": 'urn:ibm:params:oauth:grant-type:apikey'})\n",
    "mltoken = token_response.json()[\"access_token\"]\n",
    "\n",
    "header = {'Content-Type': 'application/json', 'Authorization': 'Bearer ' + mltoken}\n",
    "\n",
    "\n"
   ]
  },
  {
   "cell_type": "code",
   "execution_count": 4,
   "id": "de0ce7e7",
   "metadata": {},
   "outputs": [],
   "source": [
    "loaded_reg = pickle. load(open('randomreg_chronic.pkl', 'rb'))"
   ]
  },
  {
   "cell_type": "code",
   "execution_count": null,
   "id": "c8bef42b",
   "metadata": {},
   "outputs": [
    {
     "name": "stdout",
     "output_type": "stream",
     "text": [
      " * Serving Flask app \"__main__\" (lazy loading)\n",
      " * Environment: production\n",
      "\u001b[31m   WARNING: This is a development server. Do not use it in a production deployment.\u001b[0m\n",
      "\u001b[2m   Use a production WSGI server instead.\u001b[0m\n",
      " * Debug mode: off\n"
     ]
    },
    {
     "name": "stderr",
     "output_type": "stream",
     "text": [
      " * Running on http://127.0.0.1:5000/ (Press CTRL+C to quit)\n",
      "127.0.0.1 - - [23/Nov/2022 23:30:59] \"GET / HTTP/1.1\" 200 -\n",
      "127.0.0.1 - - [23/Nov/2022 23:30:59] \"GET /favicon.ico HTTP/1.1\" 404 -\n"
     ]
    }
   ],
   "source": [
    "\n",
    "app = Flask(__name__,static_url_path=\"\")\n",
    "@app.route('/',methods=['GET'])\n",
    "def index():\n",
    "    return render_template('index.html')\n",
    "@app.route('/val',methods=['POST'])\n",
    "\n",
    "\n",
    "def val():\n",
    "    test=[]\n",
    "    if request.method == 'POST':\n",
    "        test.append(float(request.form[\"age\"]))\n",
    "        test.append(float(request.form[\"bp\"]))\n",
    "        test.append(float(request.form[\"sg\"]))\n",
    "        test.append(float(request.form[\"al\"]))\n",
    "        test.append(float(request.form[\"su\"]))\n",
    "        rb=request.form[\"rbc\"]\n",
    "        if rb==0:\n",
    "            test.append(1)\n",
    "        else:\n",
    "            test.append(0)\n",
    "        pc=request.form[\"pc\"]\n",
    "        if pc==0:\n",
    "            test.append(1)\n",
    "        else:\n",
    "            test.append(0)\n",
    "        pcc=request.form[\"pcc\"]\n",
    "        if pcc==1:\n",
    "            test.append(1)\n",
    "        else:\n",
    "            test.append(0)\n",
    "        ba=request.form[\"ba\"]\n",
    "        if ba==1:\n",
    "            test.append(1)\n",
    "        else:\n",
    "            test.append(0)\n",
    "        test.append(float(request.form[\"bgr\"]))\n",
    "        test.append(float(request.form[\"bu\"]))\n",
    "        test.append(float(request.form[\"sc\"]))\n",
    "        test.append(float(request.form[\"sod\"]))\n",
    "        test.append(float(request.form[\"pot\"]))\n",
    "        test.append(float(request.form[\"hemo\"]))\n",
    "        test.append(float(request.form[\"pcv\"]))\n",
    "        test.append(float(request.form[\"wc\"]))\n",
    "        test.append(float(request.form[\"rc\"]))\n",
    "        ht=request.form[\"htn\"]\n",
    "        if ht==1:\n",
    "            test.append(1)\n",
    "        else:\n",
    "            test.append(0)\n",
    "        d=request.form[\"dm\"]\n",
    "        if d==1:\n",
    "            test.append(1)\n",
    "        else:\n",
    "            test.append(0)\n",
    "        ca=request.form[\"cad\"]\n",
    "        if ca==1:\n",
    "            test.append(1)\n",
    "        else:\n",
    "            test.append(0)\n",
    "        ap=request.form[\"appet\"]\n",
    "        if ap==1:\n",
    "            test.append(1)\n",
    "        else:\n",
    "            test.append(0)\n",
    "        \n",
    "        p=request.form[\"pe\"]\n",
    "        if p==1:\n",
    "            test.append(1)\n",
    "        else:\n",
    "            test.append(0)\n",
    "        an=request.form[\"ane\"]\n",
    "        if an==1:\n",
    "            test.append(1)\n",
    "        else:\n",
    "            test.append(0)\n",
    "    print(test)\n",
    "    test_df=pd.DataFrame(test)\n",
    "    test_df=np.array(test_df).reshape(1, -1)\n",
    "    payload_scoring = {\"input_data\": [{\"field\": ['age','bp','sg','al','su','rbc','pc','pcc','ba','bgr','bu',], \"values\": test_df}]}\n",
    "    response_scoring = requests.post('https://us-south.ml.cloud.ibm.com/ml/v4/deployments/5db87918-18ae-4ff2-9ec9-70c6af4a3fbf/predictions?version=2022-11-23', json=payload_scoring,\n",
    "    headers={'Authorization': 'Bearer ' + mltoken})\n",
    "    print(\"Scoring response\")\n",
    "    print(response_scoring.json())\n",
    "    predictions=response_scoring.json()\n",
    "    predict=predictions['predictions'][0]['values'][0][0]\n",
    "    print(predict)\n",
    "    \n",
    "    \n",
    "    if int(ans2)==1:\n",
    "        answer1=\"You have CHRONIC DISEASE!!!\"\n",
    "        return render_template('rename.html',answer1=predict)\n",
    "    else:\n",
    "        answer1=\"You don't have CHRONIC DISEASE\"\n",
    "\n",
    "        return render_template('rename2.html',answer1=predict)\n",
    "    \n",
    "if __name__ == \"__main__\":\n",
    "    app.debug=True\n",
    "    app.run(debug=False)"
   ]
  },
  {
   "cell_type": "code",
   "execution_count": null,
   "id": "fecdae21",
   "metadata": {},
   "outputs": [],
   "source": []
  }
 ],
 "metadata": {
  "kernelspec": {
   "display_name": "Python 3 (ipykernel)",
   "language": "python",
   "name": "python3"
  },
  "language_info": {
   "codemirror_mode": {
    "name": "ipython",
    "version": 3
   },
   "file_extension": ".py",
   "mimetype": "text/x-python",
   "name": "python",
   "nbconvert_exporter": "python",
   "pygments_lexer": "ipython3",
   "version": "3.9.12"
  },
  "vscode": {
   "interpreter": {
    "hash": "1210ad2d3a6b3cedec78738194c52f8fa51f2dbaa63eca72688e3e5f10a2a52c"
   }
  }
 },
 "nbformat": 4,
 "nbformat_minor": 5
}
